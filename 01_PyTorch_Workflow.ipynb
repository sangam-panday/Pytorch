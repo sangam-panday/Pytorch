{
  "nbformat": 4,
  "nbformat_minor": 0,
  "metadata": {
    "colab": {
      "provenance": [],
      "gpuType": "T4"
    },
    "kernelspec": {
      "name": "python3",
      "display_name": "Python 3"
    },
    "language_info": {
      "name": "python"
    },
    "accelerator": "GPU"
  },
  "cells": [
    {
      "cell_type": "markdown",
      "source": [
        "#PyTorch Workflow\n",
        "\n",
        "Let's explore a an examplr by Pytorch end-to-end encryption"
      ],
      "metadata": {
        "id": "bjoQZs--aQtk"
      }
    },
    {
      "cell_type": "code",
      "source": [
        "import torch\n",
        "from torch import nn #nn contains all of pytorch building blocks\n",
        "import matplotlib.pyplot as plt\n",
        "\n",
        "torch.__version__"
      ],
      "metadata": {
        "colab": {
          "base_uri": "https://localhost:8080/",
          "height": 35
        },
        "id": "VU4SPqbIai5M",
        "outputId": "228ca440-9949-4a22-ac1f-ab4993848c6b"
      },
      "execution_count": 1,
      "outputs": [
        {
          "output_type": "execute_result",
          "data": {
            "text/plain": [
              "'2.6.0+cu124'"
            ],
            "application/vnd.google.colaboratory.intrinsic+json": {
              "type": "string"
            }
          },
          "metadata": {},
          "execution_count": 1
        }
      ]
    },
    {
      "cell_type": "markdown",
      "source": [
        "#Data\n",
        "\n",
        "Data can be almost anything ... in machine learning"
      ],
      "metadata": {
        "id": "3RRAPA0da3hh"
      }
    },
    {
      "cell_type": "markdown",
      "source": [
        "#Linear regression (y = mx + b)"
      ],
      "metadata": {
        "id": "ON_1uCH_a_yo"
      }
    },
    {
      "cell_type": "code",
      "source": [
        "#Create *known* parameters\n",
        "\n",
        "weight = 0.7\n",
        "bias = 0.3\n",
        "\n",
        "#Create some data\n",
        "start = 0\n",
        "end = 1\n",
        "step = 0.02\n",
        "X = torch.arange(start, end, step).unsqueeze(dim = 1)\n",
        "Y= weight * X + bias\n",
        "\n",
        "X[:10], Y[:10]"
      ],
      "metadata": {
        "colab": {
          "base_uri": "https://localhost:8080/"
        },
        "id": "iQvyKM2UbcQ7",
        "outputId": "92499feb-0144-41bd-b4ab-9f254f997e2a"
      },
      "execution_count": 2,
      "outputs": [
        {
          "output_type": "execute_result",
          "data": {
            "text/plain": [
              "(tensor([[0.0000],\n",
              "         [0.0200],\n",
              "         [0.0400],\n",
              "         [0.0600],\n",
              "         [0.0800],\n",
              "         [0.1000],\n",
              "         [0.1200],\n",
              "         [0.1400],\n",
              "         [0.1600],\n",
              "         [0.1800]]),\n",
              " tensor([[0.3000],\n",
              "         [0.3140],\n",
              "         [0.3280],\n",
              "         [0.3420],\n",
              "         [0.3560],\n",
              "         [0.3700],\n",
              "         [0.3840],\n",
              "         [0.3980],\n",
              "         [0.4120],\n",
              "         [0.4260]]))"
            ]
          },
          "metadata": {},
          "execution_count": 2
        }
      ]
    },
    {
      "cell_type": "markdown",
      "source": [
        "### Splitting data into training and test sets\n",
        "\n",
        "One of the most important cconcepts in machine learning in general"
      ],
      "metadata": {
        "id": "PJc-kSQtb5dz"
      }
    },
    {
      "cell_type": "code",
      "source": [
        "#Create a train/test split\n",
        "\n",
        "train_split = int(0.8 * len(X))\n",
        "X_train, y_train = X[:train_split], Y[:train_split]\n",
        "X_test, y_test = X[train_split:], Y[train_split:]\n",
        "\n",
        "len(X_train), len(y_train), len(X_test), len(y_test)"
      ],
      "metadata": {
        "colab": {
          "base_uri": "https://localhost:8080/"
        },
        "id": "AKUtIjRYcsUP",
        "outputId": "c5a54d02-57c1-4b9d-f7f2-7404d946f27a"
      },
      "execution_count": 3,
      "outputs": [
        {
          "output_type": "execute_result",
          "data": {
            "text/plain": [
              "(40, 40, 10, 10)"
            ]
          },
          "metadata": {},
          "execution_count": 3
        }
      ]
    },
    {
      "cell_type": "markdown",
      "source": [
        "###Vizualizing our data"
      ],
      "metadata": {
        "id": "W5ALbR76dNJE"
      }
    },
    {
      "cell_type": "code",
      "source": [
        "def plot_predictions(train_data = X_train,\n",
        "                     train_labels = y_train,\n",
        "                     test_data = X_test,\n",
        "                     test_labels = y_test,\n",
        "                     predictions = None):\n",
        "  plt.figure(figsize=(10, 7))\n",
        "  plt.scatter(train_data, train_labels, c=\"b\", s = 4, label= \"Training data\")\n",
        "  plt.scatter(test_data, test_labels, c=\"g\", s = 4, label = \"Testing data\")\n",
        "\n",
        "  if predictions is not None:\n",
        "    plt.scatter(test_data, predictions, c = \"r\", s=4, label=\"Prediction data\")\n",
        "\n",
        "  plt.legend(prop={\"size\" : 14});"
      ],
      "metadata": {
        "id": "Dl2WZkIIdjig"
      },
      "execution_count": 4,
      "outputs": []
    },
    {
      "cell_type": "code",
      "source": [
        "plot_predictions();"
      ],
      "metadata": {
        "colab": {
          "base_uri": "https://localhost:8080/",
          "height": 599
        },
        "id": "uK0pVAV3ejS2",
        "outputId": "0939e03b-417e-4148-c275-886da26adf8f"
      },
      "execution_count": 5,
      "outputs": [
        {
          "output_type": "display_data",
          "data": {
            "text/plain": [
              "<Figure size 1000x700 with 1 Axes>"
            ],
            "image/png": "[encoded data removed]"
          },
          "metadata": {}
        }
      ]
    },
    {
      "cell_type": "markdown",
      "source": [
        "## Build a model\n",
        "First PyTorch model"
      ],
      "metadata": {
        "id": "MHA64oNJMP7K"
      }
    },
    {
      "cell_type": "code",
      "source": [
        "from torch import nn\n",
        "class LinearRegressionModel(nn.Module): # <- Almost everything in PyTorch inherits from nn.module\n",
        "  def __init__(self):\n",
        "    super().__init__()\n",
        "    self.weight = nn.Parameter(torch.randn(1,\n",
        "                                            requires_grad= True,\n",
        "                                            dtype = torch.float))\n",
        "    self.bias = nn.Parameter(torch.randn(1,\n",
        "                                         requires_grad= True,\n",
        "                                         dtype = torch.float))\n",
        "\n",
        "  def forward(self, x: torch.Tensor) -> torch.Tensor:\n",
        "    return self.weight * x + self.bias"
      ],
      "metadata": {
        "id": "KaPMLWgeNxHc"
      },
      "execution_count": 6,
      "outputs": []
    },
    {
      "cell_type": "markdown",
      "source": [
        "### PyTorch Module Building essentials\n",
        "* torch.nn: Building blocks\n",
        "* torch.nn.paramters(): what parameter should our model try and Learn\n",
        "* module\n",
        "* torch.optim : This where the optimizers in PyTorch live\n",
        "* def forward: this method defines what happens in forward computation"
      ],
      "metadata": {
        "id": "ynC25nAYT3MS"
      }
    },
    {
      "cell_type": "markdown",
      "source": [
        "### Checking the contents of our PyTorch Model\n",
        "check parameters - `.parameters()`"
      ],
      "metadata": {
        "id": "DLYvvSiZV2J2"
      }
    },
    {
      "cell_type": "code",
      "source": [
        "# Create a random seed\n",
        "torch.manual_seed(42)\n",
        "\n",
        "#Create an instance of model\n",
        "model_0 = LinearRegressionModel()\n",
        "\n",
        "#Check out parameters\n",
        "list(model_0.parameters())"
      ],
      "metadata": {
        "colab": {
          "base_uri": "https://localhost:8080/"
        },
        "id": "ybV1QFXzWE17",
        "outputId": "72c8a192-2b89-47ee-9307-68087820b273"
      },
      "execution_count": 7,
      "outputs": [
        {
          "output_type": "execute_result",
          "data": {
            "text/plain": [
              "[Parameter containing:\n",
              " tensor([0.3367], requires_grad=True),\n",
              " Parameter containing:\n",
              " tensor([0.1288], requires_grad=True)]"
            ]
          },
          "metadata": {},
          "execution_count": 7
        }
      ]
    },
    {
      "cell_type": "code",
      "source": [
        "#List named parameters\n",
        "model_0.state_dict()"
      ],
      "metadata": {
        "colab": {
          "base_uri": "https://localhost:8080/"
        },
        "id": "QUTxKDEQWPkc",
        "outputId": "846ebea6-689b-4559-f8a7-8081b5117409"
      },
      "execution_count": 8,
      "outputs": [
        {
          "output_type": "execute_result",
          "data": {
            "text/plain": [
              "OrderedDict([('weight', tensor([0.3367])), ('bias', tensor([0.1288]))])"
            ]
          },
          "metadata": {},
          "execution_count": 8
        }
      ]
    },
    {
      "cell_type": "code",
      "source": [
        "weight, bias"
      ],
      "metadata": {
        "colab": {
          "base_uri": "https://localhost:8080/"
        },
        "id": "sfqQK8IZW0yG",
        "outputId": "0d1671bf-486d-4b8c-8c76-095319da5b14"
      },
      "execution_count": 9,
      "outputs": [
        {
          "output_type": "execute_result",
          "data": {
            "text/plain": [
              "(0.7, 0.3)"
            ]
          },
          "metadata": {},
          "execution_count": 9
        }
      ]
    },
    {
      "cell_type": "code",
      "source": [
        "with torch.inference_mode():\n",
        "  y_preds = model_0(X_test)\n",
        "\n",
        "#Can also do something similar with torch.no_grad()\n",
        "\n",
        "y_preds"
      ],
      "metadata": {
        "colab": {
          "base_uri": "https://localhost:8080/"
        },
        "id": "m6ZnSG8pW7nw",
        "outputId": "0cd6618b-0727-4860-b60e-79d3a40bb90b"
      },
      "execution_count": 10,
      "outputs": [
        {
          "output_type": "execute_result",
          "data": {
            "text/plain": [
              "tensor([[0.3982],\n",
              "        [0.4049],\n",
              "        [0.4116],\n",
              "        [0.4184],\n",
              "        [0.4251],\n",
              "        [0.4318],\n",
              "        [0.4386],\n",
              "        [0.4453],\n",
              "        [0.4520],\n",
              "        [0.4588]])"
            ]
          },
          "metadata": {},
          "execution_count": 10
        }
      ]
    },
    {
      "cell_type": "code",
      "source": [
        "plot_predictions(predictions=y_preds)"
      ],
      "metadata": {
        "colab": {
          "base_uri": "https://localhost:8080/",
          "height": 599
        },
        "id": "YgB16eBVXRG2",
        "outputId": "5300ebe5-bd3b-426f-8455-9d8ed7cf7ad1"
      },
      "execution_count": 11,
      "outputs": [
        {
          "output_type": "display_data",
          "data": {
            "text/plain": [
              "<Figure size 1000x700 with 1 Axes>"
            ],
            "image/png": "[encoded data removed]"
          },
          "metadata": {}
        }
      ]
    },
    {
      "cell_type": "markdown",
      "source": [
        "### The whole idea of training is to move from some random parameters to required paramters\n",
        "\n",
        "loss function\n",
        "\n",
        "\n",
        "optimizer\n"
      ],
      "metadata": {
        "id": "COHkE7QQYFj_"
      }
    },
    {
      "cell_type": "code",
      "source": [
        "model_0.state_dict()"
      ],
      "metadata": {
        "colab": {
          "base_uri": "https://localhost:8080/"
        },
        "id": "D5N2hPVNZVmZ",
        "outputId": "89eec071-c0ed-4bfb-9bb7-cef6cd4b3841"
      },
      "execution_count": 12,
      "outputs": [
        {
          "output_type": "execute_result",
          "data": {
            "text/plain": [
              "OrderedDict([('weight', tensor([0.3367])), ('bias', tensor([0.1288]))])"
            ]
          },
          "metadata": {},
          "execution_count": 12
        }
      ]
    },
    {
      "cell_type": "code",
      "source": [
        "#Setup a loss function\n",
        "loss_fn = nn.L1Loss()\n",
        "\n",
        "#Setup an optimizer(stochastic gradient descent)\n",
        "optimizer = torch.optim.SGD(params= model_0.parameters(),\n",
        "                            lr = 0.01) #lr = learning rate"
      ],
      "metadata": {
        "id": "qCjASItuZYkI"
      },
      "execution_count": 13,
      "outputs": []
    },
    {
      "cell_type": "markdown",
      "source": [
        "#Building a training and testing loop:\n"
      ],
      "metadata": {
        "id": "1OfFL-d8ag6I"
      }
    },
    {
      "cell_type": "code",
      "source": [
        "torch.manual_seed(42)\n",
        "epochs = 300\n",
        "for epoch in range(epochs):\n",
        "  #Set the model to training mode\n",
        "  model_0.train()\n",
        "  #1.\n",
        "  y_preds = model_0(X_train)\n",
        "  #2.\n",
        "  loss = loss_fn(y_preds, y_train)\n",
        "  print(f\"Loss: {loss}\")\n",
        "  #3.\n",
        "  optimizer.zero_grad()\n",
        "  #4.\n",
        "  loss.backward()\n",
        "  #5.\n",
        "  optimizer.step()\n",
        "  #Testing\n",
        "  model_0.eval()\n",
        "\n",
        "  with torch.inference_mode():\n",
        "    test_pred  = model_0(X_test)\n",
        "\n",
        "    test_loss = loss_fn(test_pred, y_test)\n",
        "\n",
        "  if epoch % 10 == 0:\n",
        "    print(f\"Epoch: {epoch}| loss: {loss}| test loss : {test_loss}\")\n",
        "\n",
        "    print(model_0.state_dict())"
      ],
      "metadata": {
        "colab": {
          "base_uri": "https://localhost:8080/"
        },
        "id": "VE_RJB3datsQ",
        "outputId": "88c805a9-03e6-4bc2-c2e4-ae72d8a3628c"
      },
      "execution_count": 14,
      "outputs": [
        {
          "output_type": "stream",
          "name": "stdout",
          "text": [
            "Loss: 0.31288138031959534\n",
            "Epoch: 0| loss: 0.31288138031959534| test loss : 0.48106518387794495\n",
            "OrderedDict([('weight', tensor([0.3406])), ('bias', tensor([0.1388]))])\n",
            "Loss: 0.3013603389263153\n",
            "Loss: 0.28983935713768005\n",
            "Loss: 0.2783183455467224\n",
            "Loss: 0.26679736375808716\n",
            "Loss: 0.2552763521671295\n",
            "Loss: 0.24375534057617188\n",
            "Loss: 0.23223432898521423\n",
            "Loss: 0.22071333229541779\n",
            "Loss: 0.20919232070446014\n",
            "Loss: 0.1976713240146637\n",
            "Epoch: 10| loss: 0.1976713240146637| test loss : 0.3463551998138428\n",
            "OrderedDict([('weight', tensor([0.3796])), ('bias', tensor([0.2388]))])\n",
            "Loss: 0.18615034222602844\n",
            "Loss: 0.1746293306350708\n",
            "Loss: 0.16310831904411316\n",
            "Loss: 0.1515873372554779\n",
            "Loss: 0.14006635546684265\n",
            "Loss: 0.1285453587770462\n",
            "Loss: 0.11702437698841095\n",
            "Loss: 0.1060912236571312\n",
            "Loss: 0.09681284427642822\n",
            "Loss: 0.08908725529909134\n",
            "Epoch: 20| loss: 0.08908725529909134| test loss : 0.21729660034179688\n",
            "OrderedDict([('weight', tensor([0.4184])), ('bias', tensor([0.3333]))])\n",
            "Loss: 0.08227583020925522\n",
            "Loss: 0.07638873159885406\n",
            "Loss: 0.07160007208585739\n",
            "Loss: 0.06747635453939438\n",
            "Loss: 0.06395438313484192\n",
            "Loss: 0.06097004935145378\n",
            "Loss: 0.05845819041132927\n",
            "Loss: 0.05635259300470352\n",
            "Loss: 0.0545857772231102\n",
            "Loss: 0.053148526698350906\n",
            "Epoch: 30| loss: 0.053148526698350906| test loss : 0.14464017748832703\n",
            "OrderedDict([('weight', tensor([0.4512])), ('bias', tensor([0.3768]))])\n",
            "Loss: 0.05181945487856865\n",
            "Loss: 0.05069301277399063\n",
            "Loss: 0.0498228520154953\n",
            "Loss: 0.04895269125699997\n",
            "Loss: 0.04819351062178612\n",
            "Loss: 0.047531817108392715\n",
            "Loss: 0.04692792519927025\n",
            "Loss: 0.04642331600189209\n",
            "Loss: 0.04591871052980423\n",
            "Loss: 0.04543796554207802\n",
            "Epoch: 40| loss: 0.04543796554207802| test loss : 0.11360953003168106\n",
            "OrderedDict([('weight', tensor([0.4748])), ('bias', tensor([0.3868]))])\n",
            "Loss: 0.04503796249628067\n",
            "Loss: 0.04463795945048332\n",
            "Loss: 0.04423796385526657\n",
            "Loss: 0.04383796453475952\n",
            "Loss: 0.04343796148896217\n",
            "Loss: 0.043074630200862885\n",
            "Loss: 0.04272563382983208\n",
            "Loss: 0.04237663000822067\n",
            "Loss: 0.04202762991189957\n",
            "Loss: 0.04167863354086876\n",
            "Epoch: 50| loss: 0.04167863354086876| test loss : 0.09919948130846024\n",
            "OrderedDict([('weight', tensor([0.4938])), ('bias', tensor([0.3843]))])\n",
            "Loss: 0.04132963344454765\n",
            "Loss: 0.04098063334822655\n",
            "Loss: 0.04063162952661514\n",
            "Loss: 0.040282636880874634\n",
            "Loss: 0.039933640509843826\n",
            "Loss: 0.03958464413881302\n",
            "Loss: 0.03923564404249191\n",
            "Loss: 0.03888664394617081\n",
            "Loss: 0.0385376438498497\n",
            "Loss: 0.03818932920694351\n",
            "Epoch: 60| loss: 0.03818932920694351| test loss : 0.08886633068323135\n",
            "OrderedDict([('weight', tensor([0.5116])), ('bias', tensor([0.3788]))])\n",
            "Loss: 0.03785243630409241\n",
            "Loss: 0.0375034399330616\n",
            "Loss: 0.037164121866226196\n",
            "Loss: 0.03681822493672371\n",
            "Loss: 0.03647511452436447\n",
            "Loss: 0.03613303601741791\n",
            "Loss: 0.03578609973192215\n",
            "Loss: 0.03544783592224121\n",
            "Loss: 0.035098835825920105\n",
            "Loss: 0.03476089984178543\n",
            "Epoch: 70| loss: 0.03476089984178543| test loss : 0.0805937647819519\n",
            "OrderedDict([('weight', tensor([0.5288])), ('bias', tensor([0.3718]))])\n",
            "Loss: 0.03441363573074341\n",
            "Loss: 0.03407188132405281\n",
            "Loss: 0.03372843936085701\n",
            "Loss: 0.03338287025690079\n",
            "Loss: 0.033043231815099716\n",
            "Loss: 0.03269423171877861\n",
            "Loss: 0.032357655465602875\n",
            "Loss: 0.03200903534889221\n",
            "Loss: 0.03166864812374115\n",
            "Loss: 0.03132382780313492\n",
            "Epoch: 80| loss: 0.03132382780313492| test loss : 0.07232122868299484\n",
            "OrderedDict([('weight', tensor([0.5459])), ('bias', tensor([0.3648]))])\n",
            "Loss: 0.030979642644524574\n",
            "Loss: 0.030638623982667923\n",
            "Loss: 0.0302906334400177\n",
            "Loss: 0.029953425750136375\n",
            "Loss: 0.02960442565381527\n",
            "Loss: 0.029265418648719788\n",
            "Loss: 0.028919223695993423\n",
            "Loss: 0.028576409444212914\n",
            "Loss: 0.028234025463461876\n",
            "Loss: 0.02788739837706089\n",
            "Epoch: 90| loss: 0.02788739837706089| test loss : 0.06473556160926819\n",
            "OrderedDict([('weight', tensor([0.5629])), ('bias', tensor([0.3573]))])\n",
            "Loss: 0.02754882536828518\n",
            "Loss: 0.027199819684028625\n",
            "Loss: 0.026862185448408127\n",
            "Loss: 0.02651461586356163\n",
            "Loss: 0.026173178106546402\n",
            "Loss: 0.025829419493675232\n",
            "Loss: 0.02548416517674923\n",
            "Loss: 0.025144213810563087\n",
            "Loss: 0.02479521557688713\n",
            "Loss: 0.024458957836031914\n",
            "Epoch: 100| loss: 0.024458957836031914| test loss : 0.05646304413676262\n",
            "OrderedDict([('weight', tensor([0.5800])), ('bias', tensor([0.3503]))])\n",
            "Loss: 0.024110013619065285\n",
            "Loss: 0.02376994863152504\n",
            "Loss: 0.02342480979859829\n",
            "Loss: 0.023080935701727867\n",
            "Loss: 0.022739607840776443\n",
            "Loss: 0.022391926497220993\n",
            "Loss: 0.022054409608244896\n",
            "Loss: 0.02170540764927864\n",
            "Loss: 0.021366719156503677\n",
            "Loss: 0.021020207554101944\n",
            "Epoch: 110| loss: 0.021020207554101944| test loss : 0.04819049686193466\n",
            "OrderedDict([('weight', tensor([0.5972])), ('bias', tensor([0.3433]))])\n",
            "Loss: 0.020677709951996803\n",
            "Loss: 0.02033500373363495\n",
            "Loss: 0.01998869702219963\n",
            "Loss: 0.019649803638458252\n",
            "Loss: 0.019300809130072594\n",
            "Loss: 0.018963487818837166\n",
            "Loss: 0.01861560344696045\n",
            "Loss: 0.018274478614330292\n",
            "Loss: 0.017930403351783752\n",
            "Loss: 0.01758546568453312\n",
            "Epoch: 120| loss: 0.01758546568453312| test loss : 0.04060482233762741\n",
            "OrderedDict([('weight', tensor([0.6141])), ('bias', tensor([0.3358]))])\n",
            "Loss: 0.017245199531316757\n",
            "Loss: 0.016896454617381096\n",
            "Loss: 0.01656000316143036\n",
            "Loss: 0.016210997477173805\n",
            "Loss: 0.01587124727666378\n",
            "Loss: 0.015525798313319683\n",
            "Loss: 0.015182236209511757\n",
            "Loss: 0.014840595424175262\n",
            "Loss: 0.01449323259294033\n",
            "Loss: 0.014155393466353416\n",
            "Epoch: 130| loss: 0.014155393466353416| test loss : 0.03233227878808975\n",
            "OrderedDict([('weight', tensor([0.6313])), ('bias', tensor([0.3288]))])\n",
            "Loss: 0.013806397095322609\n",
            "Loss: 0.013468016870319843\n",
            "Loss: 0.013121193274855614\n",
            "Loss: 0.01277900766581297\n",
            "Loss: 0.012435992248356342\n",
            "Loss: 0.01208999752998352\n",
            "Loss: 0.011750795878469944\n",
            "Loss: 0.011401787400245667\n",
            "Loss: 0.011064787395298481\n",
            "Loss: 0.010716589167714119\n",
            "Epoch: 140| loss: 0.010716589167714119| test loss : 0.024059748277068138\n",
            "OrderedDict([('weight', tensor([0.6485])), ('bias', tensor([0.3218]))])\n",
            "Loss: 0.010375778190791607\n",
            "Loss: 0.010031387209892273\n",
            "Loss: 0.009686763398349285\n",
            "Loss: 0.009346187114715576\n",
            "Loss: 0.008997755125164986\n",
            "Loss: 0.008660981431603432\n",
            "Loss: 0.008311985060572624\n",
            "Loss: 0.007972544990479946\n",
            "Loss: 0.007626785431057215\n",
            "Loss: 0.0072835334576666355\n",
            "Epoch: 150| loss: 0.0072835334576666355| test loss : 0.016474086791276932\n",
            "OrderedDict([('weight', tensor([0.6654])), ('bias', tensor([0.3143]))])\n",
            "Loss: 0.006941580679267645\n",
            "Loss: 0.006594526115804911\n",
            "Loss: 0.006256377790123224\n",
            "Loss: 0.005907376762479544\n",
            "Loss: 0.005569315515458584\n",
            "Loss: 0.005222178064286709\n",
            "Loss: 0.004880306776612997\n",
            "Loss: 0.004536976106464863\n",
            "Loss: 0.00419129803776741\n",
            "Loss: 0.0038517764769494534\n",
            "Epoch: 160| loss: 0.0038517764769494534| test loss : 0.008201557211577892\n",
            "OrderedDict([('weight', tensor([0.6826])), ('bias', tensor([0.3073]))])\n",
            "Loss: 0.0035027749836444855\n",
            "Loss: 0.0031660839449614286\n",
            "Loss: 0.002817571861669421\n",
            "Loss: 0.0024770735763013363\n",
            "Loss: 0.0021323717664927244\n",
            "Loss: 0.0017880648374557495\n",
            "Loss: 0.0014518328243866563\n",
            "Loss: 0.0011887758737429976\n",
            "Loss: 0.0025885067880153656\n",
            "Loss: 0.008932482451200485\n",
            "Epoch: 170| loss: 0.008932482451200485| test loss : 0.005023092031478882\n",
            "OrderedDict([('weight', tensor([0.6951])), ('bias', tensor([0.2993]))])\n",
            "Loss: 0.0025885067880153656\n",
            "Loss: 0.008932482451200485\n",
            "Loss: 0.0025885067880153656\n",
            "Loss: 0.008932482451200485\n",
            "Loss: 0.0025885067880153656\n",
            "Loss: 0.008932482451200485\n",
            "Loss: 0.0025885067880153656\n",
            "Loss: 0.008932482451200485\n",
            "Loss: 0.0025885067880153656\n",
            "Loss: 0.008932482451200485\n",
            "Epoch: 180| loss: 0.008932482451200485| test loss : 0.005023092031478882\n",
            "OrderedDict([('weight', tensor([0.6951])), ('bias', tensor([0.2993]))])\n",
            "Loss: 0.0025885067880153656\n",
            "Loss: 0.008932482451200485\n",
            "Loss: 0.0025885067880153656\n",
            "Loss: 0.008932482451200485\n",
            "Loss: 0.0025885067880153656\n",
            "Loss: 0.008932482451200485\n",
            "Loss: 0.0025885067880153656\n",
            "Loss: 0.008932482451200485\n",
            "Loss: 0.0025885067880153656\n",
            "Loss: 0.008932482451200485\n",
            "Epoch: 190| loss: 0.008932482451200485| test loss : 0.005023092031478882\n",
            "OrderedDict([('weight', tensor([0.6951])), ('bias', tensor([0.2993]))])\n",
            "Loss: 0.0025885067880153656\n",
            "Loss: 0.008932482451200485\n",
            "Loss: 0.0025885067880153656\n",
            "Loss: 0.008932482451200485\n",
            "Loss: 0.0025885067880153656\n",
            "Loss: 0.008932482451200485\n",
            "Loss: 0.0025885067880153656\n",
            "Loss: 0.008932482451200485\n",
            "Loss: 0.0025885067880153656\n",
            "Loss: 0.008932482451200485\n",
            "Epoch: 200| loss: 0.008932482451200485| test loss : 0.005023092031478882\n",
            "OrderedDict([('weight', tensor([0.6951])), ('bias', tensor([0.2993]))])\n",
            "Loss: 0.0025885067880153656\n",
            "Loss: 0.008932482451200485\n",
            "Loss: 0.0025885067880153656\n",
            "Loss: 0.008932482451200485\n",
            "Loss: 0.0025885067880153656\n",
            "Loss: 0.008932482451200485\n",
            "Loss: 0.0025885067880153656\n",
            "Loss: 0.008932482451200485\n",
            "Loss: 0.0025885067880153656\n",
            "Loss: 0.008932482451200485\n",
            "Epoch: 210| loss: 0.008932482451200485| test loss : 0.005023092031478882\n",
            "OrderedDict([('weight', tensor([0.6951])), ('bias', tensor([0.2993]))])\n",
            "Loss: 0.0025885067880153656\n",
            "Loss: 0.008932482451200485\n",
            "Loss: 0.0025885067880153656\n",
            "Loss: 0.008932482451200485\n",
            "Loss: 0.0025885067880153656\n",
            "Loss: 0.008932482451200485\n",
            "Loss: 0.0025885067880153656\n",
            "Loss: 0.008932482451200485\n",
            "Loss: 0.0025885067880153656\n",
            "Loss: 0.008932482451200485\n",
            "Epoch: 220| loss: 0.008932482451200485| test loss : 0.005023092031478882\n",
            "OrderedDict([('weight', tensor([0.6951])), ('bias', tensor([0.2993]))])\n",
            "Loss: 0.0025885067880153656\n",
            "Loss: 0.008932482451200485\n",
            "Loss: 0.0025885067880153656\n",
            "Loss: 0.008932482451200485\n",
            "Loss: 0.0025885067880153656\n",
            "Loss: 0.008932482451200485\n",
            "Loss: 0.0025885067880153656\n",
            "Loss: 0.008932482451200485\n",
            "Loss: 0.0025885067880153656\n",
            "Loss: 0.008932482451200485\n",
            "Epoch: 230| loss: 0.008932482451200485| test loss : 0.005023092031478882\n",
            "OrderedDict([('weight', tensor([0.6951])), ('bias', tensor([0.2993]))])\n",
            "Loss: 0.0025885067880153656\n",
            "Loss: 0.008932482451200485\n",
            "Loss: 0.0025885067880153656\n",
            "Loss: 0.008932482451200485\n",
            "Loss: 0.0025885067880153656\n",
            "Loss: 0.008932482451200485\n",
            "Loss: 0.0025885067880153656\n",
            "Loss: 0.008932482451200485\n",
            "Loss: 0.0025885067880153656\n",
            "Loss: 0.008932482451200485\n",
            "Epoch: 240| loss: 0.008932482451200485| test loss : 0.005023092031478882\n",
            "OrderedDict([('weight', tensor([0.6951])), ('bias', tensor([0.2993]))])\n",
            "Loss: 0.0025885067880153656\n",
            "Loss: 0.008932482451200485\n",
            "Loss: 0.0025885067880153656\n",
            "Loss: 0.008932482451200485\n",
            "Loss: 0.0025885067880153656\n",
            "Loss: 0.008932482451200485\n",
            "Loss: 0.0025885067880153656\n",
            "Loss: 0.008932482451200485\n",
            "Loss: 0.0025885067880153656\n",
            "Loss: 0.008932482451200485\n",
            "Epoch: 250| loss: 0.008932482451200485| test loss : 0.005023092031478882\n",
            "OrderedDict([('weight', tensor([0.6951])), ('bias', tensor([0.2993]))])\n",
            "Loss: 0.0025885067880153656\n",
            "Loss: 0.008932482451200485\n",
            "Loss: 0.0025885067880153656\n",
            "Loss: 0.008932482451200485\n",
            "Loss: 0.0025885067880153656\n",
            "Loss: 0.008932482451200485\n",
            "Loss: 0.0025885067880153656\n",
            "Loss: 0.008932482451200485\n",
            "Loss: 0.0025885067880153656\n",
            "Loss: 0.008932482451200485\n",
            "Epoch: 260| loss: 0.008932482451200485| test loss : 0.005023092031478882\n",
            "OrderedDict([('weight', tensor([0.6951])), ('bias', tensor([0.2993]))])\n",
            "Loss: 0.0025885067880153656\n",
            "Loss: 0.008932482451200485\n",
            "Loss: 0.0025885067880153656\n",
            "Loss: 0.008932482451200485\n",
            "Loss: 0.0025885067880153656\n",
            "Loss: 0.008932482451200485\n",
            "Loss: 0.0025885067880153656\n",
            "Loss: 0.008932482451200485\n",
            "Loss: 0.0025885067880153656\n",
            "Loss: 0.008932482451200485\n",
            "Epoch: 270| loss: 0.008932482451200485| test loss : 0.005023092031478882\n",
            "OrderedDict([('weight', tensor([0.6951])), ('bias', tensor([0.2993]))])\n",
            "Loss: 0.0025885067880153656\n",
            "Loss: 0.008932482451200485\n",
            "Loss: 0.0025885067880153656\n",
            "Loss: 0.008932482451200485\n",
            "Loss: 0.0025885067880153656\n",
            "Loss: 0.008932482451200485\n",
            "Loss: 0.0025885067880153656\n",
            "Loss: 0.008932482451200485\n",
            "Loss: 0.0025885067880153656\n",
            "Loss: 0.008932482451200485\n",
            "Epoch: 280| loss: 0.008932482451200485| test loss : 0.005023092031478882\n",
            "OrderedDict([('weight', tensor([0.6951])), ('bias', tensor([0.2993]))])\n",
            "Loss: 0.0025885067880153656\n",
            "Loss: 0.008932482451200485\n",
            "Loss: 0.0025885067880153656\n",
            "Loss: 0.008932482451200485\n",
            "Loss: 0.0025885067880153656\n",
            "Loss: 0.008932482451200485\n",
            "Loss: 0.0025885067880153656\n",
            "Loss: 0.008932482451200485\n",
            "Loss: 0.0025885067880153656\n",
            "Loss: 0.008932482451200485\n",
            "Epoch: 290| loss: 0.008932482451200485| test loss : 0.005023092031478882\n",
            "OrderedDict([('weight', tensor([0.6951])), ('bias', tensor([0.2993]))])\n",
            "Loss: 0.0025885067880153656\n",
            "Loss: 0.008932482451200485\n",
            "Loss: 0.0025885067880153656\n",
            "Loss: 0.008932482451200485\n",
            "Loss: 0.0025885067880153656\n",
            "Loss: 0.008932482451200485\n",
            "Loss: 0.0025885067880153656\n",
            "Loss: 0.008932482451200485\n",
            "Loss: 0.0025885067880153656\n"
          ]
        }
      ]
    },
    {
      "cell_type": "code",
      "source": [
        "with torch.inference_mode():\n",
        "  y_preds_new = model_0(X_test)"
      ],
      "metadata": {
        "id": "OlxIAG9kcwlg"
      },
      "execution_count": 15,
      "outputs": []
    },
    {
      "cell_type": "code",
      "source": [
        "plot_predictions(predictions=y_preds_new)"
      ],
      "metadata": {
        "colab": {
          "base_uri": "https://localhost:8080/",
          "height": 599
        },
        "id": "B-iKhCWfczd-",
        "outputId": "8b364854-8712-4dea-fec2-33474987b10c"
      },
      "execution_count": 16,
      "outputs": [
        {
          "output_type": "display_data",
          "data": {
            "text/plain": [
              "<Figure size 1000x700 with 1 Axes>"
            ],
            "image/png": "[encoded data removed]"
          },
          "metadata": {}
        }
      ]
    },
    {
      "cell_type": "code",
      "source": [],
      "metadata": {
        "id": "QE13knjhdg7w"
      },
      "execution_count": 16,
      "outputs": []
    }
  ]
}