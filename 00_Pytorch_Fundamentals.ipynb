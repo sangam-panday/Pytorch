{
  "nbformat": 4,
  "nbformat_minor": 0,
  "metadata": {
    "colab": {
      "provenance": [],
      "gpuType": "T4"
    },
    "kernelspec": {
      "name": "python3",
      "display_name": "Python 3"
    },
    "language_info": {
      "name": "python"
    },
    "accelerator": "GPU"
  },
  "cells": [
    {
      "cell_type": "markdown",
      "source": [
        "##00_Pytorch_Fundamentals"
      ],
      "metadata": {
        "id": "bZZoPtpN74oL"
      }
    },
    {
      "cell_type": "code",
      "execution_count": 2,
      "metadata": {
        "colab": {
          "base_uri": "https://localhost:8080/"
        },
        "id": "onfjIUWC7PLi",
        "outputId": "a6a4ed69-2924-4c46-b6b8-ee133e023e10"
      },
      "outputs": [
        {
          "output_type": "stream",
          "name": "stdout",
          "text": [
            "2.6.0+cu124\n"
          ]
        }
      ],
      "source": [
        "import torch\n",
        "import numpy as np\n",
        "import pandas as pd\n",
        "import matplotlib.pyplot as plt\n",
        "print(torch.__version__)"
      ]
    },
    {
      "cell_type": "markdown",
      "source": [
        "##Introduction to tensors\n",
        "## Creating tensors\n",
        "##Pytorch tensors are creating using torch.tensor()\n",
        "\n"
      ],
      "metadata": {
        "id": "4Pp3wXSU827M"
      }
    },
    {
      "cell_type": "code",
      "source": [
        "#Scalar\n",
        "scalar = torch.tensor(7)\n",
        "scalar"
      ],
      "metadata": {
        "colab": {
          "base_uri": "https://localhost:8080/"
        },
        "id": "-oEEZhkc9ZKJ",
        "outputId": "656298c4-7943-4485-f536-114a5f3f834e"
      },
      "execution_count": 3,
      "outputs": [
        {
          "output_type": "execute_result",
          "data": {
            "text/plain": [
              "tensor(7)"
            ]
          },
          "metadata": {},
          "execution_count": 3
        }
      ]
    },
    {
      "cell_type": "code",
      "source": [
        "scalar.ndim"
      ],
      "metadata": {
        "colab": {
          "base_uri": "https://localhost:8080/"
        },
        "id": "l3YLDWO39jCy",
        "outputId": "402100a2-1eba-4eca-ad8d-1e1889f247ff"
      },
      "execution_count": 4,
      "outputs": [
        {
          "output_type": "execute_result",
          "data": {
            "text/plain": [
              "0"
            ]
          },
          "metadata": {},
          "execution_count": 4
        }
      ]
    },
    {
      "cell_type": "code",
      "source": [
        "#Get tensor back as python int\n",
        "scalar.item()"
      ],
      "metadata": {
        "colab": {
          "base_uri": "https://localhost:8080/"
        },
        "id": "gfiQXNsE-G4L",
        "outputId": "48f3e41f-ba1f-437e-d90c-6a6aebad3eb3"
      },
      "execution_count": 5,
      "outputs": [
        {
          "output_type": "execute_result",
          "data": {
            "text/plain": [
              "7"
            ]
          },
          "metadata": {},
          "execution_count": 5
        }
      ]
    },
    {
      "cell_type": "code",
      "source": [
        "#Vector\n",
        "vector = torch.tensor([7,7])\n",
        "vector"
      ],
      "metadata": {
        "colab": {
          "base_uri": "https://localhost:8080/"
        },
        "id": "9W3n-nb3-J1F",
        "outputId": "cdddf533-a4e1-4fa6-f90e-4bef38ad0b9e"
      },
      "execution_count": 6,
      "outputs": [
        {
          "output_type": "execute_result",
          "data": {
            "text/plain": [
              "tensor([7, 7])"
            ]
          },
          "metadata": {},
          "execution_count": 6
        }
      ]
    },
    {
      "cell_type": "code",
      "source": [
        "vector.ndim"
      ],
      "metadata": {
        "colab": {
          "base_uri": "https://localhost:8080/"
        },
        "id": "jzh2mr73-TRP",
        "outputId": "8957f379-6c96-4aff-f2a8-7ce384a7f7b7"
      },
      "execution_count": 7,
      "outputs": [
        {
          "output_type": "execute_result",
          "data": {
            "text/plain": [
              "1"
            ]
          },
          "metadata": {},
          "execution_count": 7
        }
      ]
    },
    {
      "cell_type": "code",
      "source": [
        "vector.shape"
      ],
      "metadata": {
        "colab": {
          "base_uri": "https://localhost:8080/"
        },
        "id": "CAyVr8w8-ak-",
        "outputId": "f7401bdc-18b4-4f9f-9018-3d6501540150"
      },
      "execution_count": 8,
      "outputs": [
        {
          "output_type": "execute_result",
          "data": {
            "text/plain": [
              "torch.Size([2])"
            ]
          },
          "metadata": {},
          "execution_count": 8
        }
      ]
    },
    {
      "cell_type": "code",
      "source": [
        "#MATRIX\n",
        "MATRIX = torch.tensor([[7,8],[9,10]])\n",
        "MATRIX"
      ],
      "metadata": {
        "colab": {
          "base_uri": "https://localhost:8080/"
        },
        "id": "N4boZ6i4-fJR",
        "outputId": "ae33717c-354f-4ecc-f144-6bc2601679a5"
      },
      "execution_count": 9,
      "outputs": [
        {
          "output_type": "execute_result",
          "data": {
            "text/plain": [
              "tensor([[ 7,  8],\n",
              "        [ 9, 10]])"
            ]
          },
          "metadata": {},
          "execution_count": 9
        }
      ]
    },
    {
      "cell_type": "code",
      "source": [
        "MATRIX.ndim"
      ],
      "metadata": {
        "colab": {
          "base_uri": "https://localhost:8080/"
        },
        "id": "wT5Nu-x0-t-M",
        "outputId": "af6a867c-b91d-42cd-d6e3-e2f5a1b5c2f3"
      },
      "execution_count": 10,
      "outputs": [
        {
          "output_type": "execute_result",
          "data": {
            "text/plain": [
              "2"
            ]
          },
          "metadata": {},
          "execution_count": 10
        }
      ]
    },
    {
      "cell_type": "code",
      "source": [
        "MATRIX[0]"
      ],
      "metadata": {
        "colab": {
          "base_uri": "https://localhost:8080/"
        },
        "id": "gHo4Dj6V-y92",
        "outputId": "0e501095-eab7-450b-d262-c66f61e8f946"
      },
      "execution_count": 11,
      "outputs": [
        {
          "output_type": "execute_result",
          "data": {
            "text/plain": [
              "tensor([7, 8])"
            ]
          },
          "metadata": {},
          "execution_count": 11
        }
      ]
    },
    {
      "cell_type": "code",
      "source": [
        "MATRIX.shape"
      ],
      "metadata": {
        "colab": {
          "base_uri": "https://localhost:8080/"
        },
        "id": "EEO6HepP-0ZA",
        "outputId": "60dfba9c-1647-43c2-89dc-c98c2a02caac"
      },
      "execution_count": 12,
      "outputs": [
        {
          "output_type": "execute_result",
          "data": {
            "text/plain": [
              "torch.Size([2, 2])"
            ]
          },
          "metadata": {},
          "execution_count": 12
        }
      ]
    },
    {
      "cell_type": "code",
      "source": [
        "#TENSOR\n",
        "TENSOR = torch.tensor([[[1,2,3],\n",
        "                        [3,6,9],\n",
        "                         [2,4,5]]])\n",
        "TENSOR"
      ],
      "metadata": {
        "colab": {
          "base_uri": "https://localhost:8080/"
        },
        "id": "fnIlqy3k-5dv",
        "outputId": "66f6e141-0325-482b-a78f-39d313605f26"
      },
      "execution_count": 13,
      "outputs": [
        {
          "output_type": "execute_result",
          "data": {
            "text/plain": [
              "tensor([[[1, 2, 3],\n",
              "         [3, 6, 9],\n",
              "         [2, 4, 5]]])"
            ]
          },
          "metadata": {},
          "execution_count": 13
        }
      ]
    },
    {
      "cell_type": "code",
      "source": [
        "TENSOR.ndim"
      ],
      "metadata": {
        "colab": {
          "base_uri": "https://localhost:8080/"
        },
        "id": "zNdm4lzV_OyO",
        "outputId": "04a1ce53-8047-44bf-82c1-1354bdea4415"
      },
      "execution_count": 14,
      "outputs": [
        {
          "output_type": "execute_result",
          "data": {
            "text/plain": [
              "3"
            ]
          },
          "metadata": {},
          "execution_count": 14
        }
      ]
    },
    {
      "cell_type": "code",
      "source": [
        "TENSOR.shape"
      ],
      "metadata": {
        "colab": {
          "base_uri": "https://localhost:8080/"
        },
        "id": "jZd4XZm1_QcD",
        "outputId": "c0979083-b208-48d4-a98d-08aad6569c28"
      },
      "execution_count": 15,
      "outputs": [
        {
          "output_type": "execute_result",
          "data": {
            "text/plain": [
              "torch.Size([1, 3, 3])"
            ]
          },
          "metadata": {},
          "execution_count": 15
        }
      ]
    },
    {
      "cell_type": "code",
      "source": [
        "TENSOR[0]"
      ],
      "metadata": {
        "colab": {
          "base_uri": "https://localhost:8080/"
        },
        "id": "QZvCNzEz_Sum",
        "outputId": "6ae7a52b-3b49-4d1e-d703-9d176533ce07"
      },
      "execution_count": 16,
      "outputs": [
        {
          "output_type": "execute_result",
          "data": {
            "text/plain": [
              "tensor([[1, 2, 3],\n",
              "        [3, 6, 9],\n",
              "        [2, 4, 5]])"
            ]
          },
          "metadata": {},
          "execution_count": 16
        }
      ]
    },
    {
      "cell_type": "markdown",
      "source": [
        "## Random Tensors\n",
        "why random tensors?\n",
        "\n",
        "Random Tensors are important because the way many neural networks learn is that they start with tensors full of random numbers and then adjust those random numbers to better represent the data.\n",
        "\n",
        " 'Start with random numbers -> look at data -> update random numbers -> look at data -> update random numbers'\n"
      ],
      "metadata": {
        "id": "J6GxY5vu_jGS"
      }
    },
    {
      "cell_type": "code",
      "source": [
        "#Create a random tensor of size (3, 4)\n",
        "random_tensor = torch.rand(3,4)\n",
        "random_tensor"
      ],
      "metadata": {
        "colab": {
          "base_uri": "https://localhost:8080/"
        },
        "id": "sWBYyQsqgGQ0",
        "outputId": "add3269f-6ed7-4b99-db5f-0f94377f384b"
      },
      "execution_count": 17,
      "outputs": [
        {
          "output_type": "execute_result",
          "data": {
            "text/plain": [
              "tensor([[0.6863, 0.6488, 0.9108, 0.1573],\n",
              "        [0.5268, 0.9878, 0.2649, 0.0920],\n",
              "        [0.5800, 0.6690, 0.0919, 0.1730]])"
            ]
          },
          "metadata": {},
          "execution_count": 17
        }
      ]
    },
    {
      "cell_type": "code",
      "source": [
        "random_tensor.ndim"
      ],
      "metadata": {
        "colab": {
          "base_uri": "https://localhost:8080/"
        },
        "id": "QK99R_LUgYGY",
        "outputId": "a551d828-2ae8-481a-9a51-cc660402230a"
      },
      "execution_count": 18,
      "outputs": [
        {
          "output_type": "execute_result",
          "data": {
            "text/plain": [
              "2"
            ]
          },
          "metadata": {},
          "execution_count": 18
        }
      ]
    },
    {
      "cell_type": "code",
      "source": [
        "#Create a random tensor with similar shape to an image tensor\n",
        "random_image_size_tensor = torch.rand(size=(224, 224, 3))#Height, width, color channel's\n",
        "random_image_size_tensor.shape, random_image_size_tensor.ndim"
      ],
      "metadata": {
        "colab": {
          "base_uri": "https://localhost:8080/"
        },
        "id": "tKxTRKazggZF",
        "outputId": "d893d9fd-57ed-4e7d-d9a3-9c5fd47a1461"
      },
      "execution_count": 19,
      "outputs": [
        {
          "output_type": "execute_result",
          "data": {
            "text/plain": [
              "(torch.Size([224, 224, 3]), 3)"
            ]
          },
          "metadata": {},
          "execution_count": 19
        }
      ]
    },
    {
      "cell_type": "code",
      "source": [
        "#Printing random tensor's\n",
        "torch.rand(3, 3)"
      ],
      "metadata": {
        "colab": {
          "base_uri": "https://localhost:8080/"
        },
        "id": "-LP9gUIbiQc9",
        "outputId": "65e4eab3-94b8-4488-e63b-0715dac36fae"
      },
      "execution_count": 20,
      "outputs": [
        {
          "output_type": "execute_result",
          "data": {
            "text/plain": [
              "tensor([[0.9557, 0.6112, 0.7917],\n",
              "        [0.5125, 0.1922, 0.1005],\n",
              "        [0.8196, 0.7470, 0.8793]])"
            ]
          },
          "metadata": {},
          "execution_count": 20
        }
      ]
    },
    {
      "cell_type": "code",
      "source": [
        "#Create a tensor of all zero's\n",
        "zeros = torch.zeros(size = (3, 4))\n",
        "zeros"
      ],
      "metadata": {
        "colab": {
          "base_uri": "https://localhost:8080/"
        },
        "id": "_eXOkfDRjiIJ",
        "outputId": "d89b4e58-6e92-4004-def8-68781c03cf6d"
      },
      "execution_count": 21,
      "outputs": [
        {
          "output_type": "execute_result",
          "data": {
            "text/plain": [
              "tensor([[0., 0., 0., 0.],\n",
              "        [0., 0., 0., 0.],\n",
              "        [0., 0., 0., 0.]])"
            ]
          },
          "metadata": {},
          "execution_count": 21
        }
      ]
    },
    {
      "cell_type": "code",
      "source": [
        "zeros * random_tensor"
      ],
      "metadata": {
        "colab": {
          "base_uri": "https://localhost:8080/"
        },
        "id": "8bMKSQxXjszH",
        "outputId": "61596928-9a3f-4dd7-83da-cc6b2eed5674"
      },
      "execution_count": 22,
      "outputs": [
        {
          "output_type": "execute_result",
          "data": {
            "text/plain": [
              "tensor([[0., 0., 0., 0.],\n",
              "        [0., 0., 0., 0.],\n",
              "        [0., 0., 0., 0.]])"
            ]
          },
          "metadata": {},
          "execution_count": 22
        }
      ]
    },
    {
      "cell_type": "code",
      "source": [
        "#Create a tensors of all one's\n",
        "ones = torch.ones(size = (3, 4))\n",
        "ones"
      ],
      "metadata": {
        "colab": {
          "base_uri": "https://localhost:8080/"
        },
        "id": "NjKr8gc4jwaB",
        "outputId": "a811ef91-6735-4323-efaf-2df2cb38e664"
      },
      "execution_count": 23,
      "outputs": [
        {
          "output_type": "execute_result",
          "data": {
            "text/plain": [
              "tensor([[1., 1., 1., 1.],\n",
              "        [1., 1., 1., 1.],\n",
              "        [1., 1., 1., 1.]])"
            ]
          },
          "metadata": {},
          "execution_count": 23
        }
      ]
    },
    {
      "cell_type": "code",
      "source": [
        "ones.dtype"
      ],
      "metadata": {
        "colab": {
          "base_uri": "https://localhost:8080/"
        },
        "id": "yj3HbK08j7AL",
        "outputId": "55c5aebd-9942-46dc-8c8b-136cd8168447"
      },
      "execution_count": 24,
      "outputs": [
        {
          "output_type": "execute_result",
          "data": {
            "text/plain": [
              "torch.float32"
            ]
          },
          "metadata": {},
          "execution_count": 24
        }
      ]
    },
    {
      "cell_type": "markdown",
      "source": [
        "#Creating a range of tansors and tensors-like"
      ],
      "metadata": {
        "id": "uQ4YRG4pj-O_"
      }
    },
    {
      "cell_type": "code",
      "source": [
        "#Use torch.range()\n",
        "one_to_ten = torch.arange(start = 1,end = 11, step = 1)\n",
        "one_to_ten"
      ],
      "metadata": {
        "colab": {
          "base_uri": "https://localhost:8080/"
        },
        "id": "mXKLe8-0kHwN",
        "outputId": "00b0a7f9-ca8e-407e-afa5-5da0ae950cc7"
      },
      "execution_count": 25,
      "outputs": [
        {
          "output_type": "execute_result",
          "data": {
            "text/plain": [
              "tensor([ 1,  2,  3,  4,  5,  6,  7,  8,  9, 10])"
            ]
          },
          "metadata": {},
          "execution_count": 25
        }
      ]
    },
    {
      "cell_type": "code",
      "source": [
        "#Creating tensor's like\n",
        "ten_zeros = torch.zeros_like(input = one_to_ten)\n",
        "ten_zeros"
      ],
      "metadata": {
        "colab": {
          "base_uri": "https://localhost:8080/"
        },
        "id": "40z4_Tx1kQdl",
        "outputId": "8f890e86-a3ee-481a-8e19-fda5c346023b"
      },
      "execution_count": 26,
      "outputs": [
        {
          "output_type": "execute_result",
          "data": {
            "text/plain": [
              "tensor([0, 0, 0, 0, 0, 0, 0, 0, 0, 0])"
            ]
          },
          "metadata": {},
          "execution_count": 26
        }
      ]
    },
    {
      "cell_type": "markdown",
      "source": [
        "#Tensor's datatype\n",
        "**Note**: Tensor datatype is one of the three big errors that you'll run into with Pytorch & Deep learning\n",
        "1. Tensors not right data type\n",
        "2. Tensors not right shape\n",
        "3. Tensors not on the right device\n"
      ],
      "metadata": {
        "id": "CEZfW5vIkk2X"
      }
    },
    {
      "cell_type": "code",
      "source": [
        "#Float 32 tensors\n",
        "float_32_tensors = torch.tensor([3.0, 6.0],\n",
        "                                dtype=torch.float32,#what data type is the tensor eg float32, float16, etc\n",
        "                                device = None, # device is your tensor on\n",
        "                                requires_grad=False)#Track gradient's of a tensor\n",
        "float_32_tensors.dtype"
      ],
      "metadata": {
        "colab": {
          "base_uri": "https://localhost:8080/"
        },
        "id": "JCXQoocIlEGV",
        "outputId": "64bb14c6-90c2-4136-ec9c-3f653b68176b"
      },
      "execution_count": 27,
      "outputs": [
        {
          "output_type": "execute_result",
          "data": {
            "text/plain": [
              "torch.float32"
            ]
          },
          "metadata": {},
          "execution_count": 27
        }
      ]
    },
    {
      "cell_type": "code",
      "source": [
        "float_16_tensor = float_32_tensors.type(torch.float16)\n",
        "float_16_tensor"
      ],
      "metadata": {
        "colab": {
          "base_uri": "https://localhost:8080/"
        },
        "id": "aBxL988zlOY0",
        "outputId": "7fe74ea7-2922-4b2c-9169-2384799564c3"
      },
      "execution_count": 28,
      "outputs": [
        {
          "output_type": "execute_result",
          "data": {
            "text/plain": [
              "tensor([3., 6.], dtype=torch.float16)"
            ]
          },
          "metadata": {},
          "execution_count": 28
        }
      ]
    },
    {
      "cell_type": "code",
      "source": [
        "float_16_tensor * float_32_tensors"
      ],
      "metadata": {
        "colab": {
          "base_uri": "https://localhost:8080/"
        },
        "id": "j4JNInk-mxTg",
        "outputId": "89decaee-2b02-402c-f11e-4e8e55cf3bba"
      },
      "execution_count": 29,
      "outputs": [
        {
          "output_type": "execute_result",
          "data": {
            "text/plain": [
              "tensor([ 9., 36.])"
            ]
          },
          "metadata": {},
          "execution_count": 29
        }
      ]
    },
    {
      "cell_type": "code",
      "source": [
        "TENSOR2 = torch.tensor([2.0, 4.0],\n",
        "                      dtype = None,\n",
        "                      device = None,\n",
        "                      requires_grad=False)\n",
        "TENSOR2"
      ],
      "metadata": {
        "colab": {
          "base_uri": "https://localhost:8080/"
        },
        "id": "EsfopEr9nG6s",
        "outputId": "1d560937-ba55-48e5-803c-2726ad9df219"
      },
      "execution_count": 30,
      "outputs": [
        {
          "output_type": "execute_result",
          "data": {
            "text/plain": [
              "tensor([2., 4.])"
            ]
          },
          "metadata": {},
          "execution_count": 30
        }
      ]
    },
    {
      "cell_type": "code",
      "source": [
        "TENSOR3 = TENSOR2.type(torch.int32)\n",
        "TENSOR3"
      ],
      "metadata": {
        "colab": {
          "base_uri": "https://localhost:8080/"
        },
        "id": "_PwRTYwVnibQ",
        "outputId": "87d704da-3a83-499d-b107-5f219f24fc3e"
      },
      "execution_count": 31,
      "outputs": [
        {
          "output_type": "execute_result",
          "data": {
            "text/plain": [
              "tensor([2, 4], dtype=torch.int32)"
            ]
          },
          "metadata": {},
          "execution_count": 31
        }
      ]
    },
    {
      "cell_type": "code",
      "source": [
        "TENSOR4 = TENSOR3.type(torch.long)\n",
        "TENSOR4"
      ],
      "metadata": {
        "colab": {
          "base_uri": "https://localhost:8080/"
        },
        "id": "gZArKUnyfLbl",
        "outputId": "fad26575-1367-45ec-ae06-285d5eb8a3c7"
      },
      "execution_count": 32,
      "outputs": [
        {
          "output_type": "execute_result",
          "data": {
            "text/plain": [
              "tensor([2, 4])"
            ]
          },
          "metadata": {},
          "execution_count": 32
        }
      ]
    },
    {
      "cell_type": "code",
      "source": [
        "TENSOR4.dtype"
      ],
      "metadata": {
        "colab": {
          "base_uri": "https://localhost:8080/"
        },
        "id": "C5I19rIBfz3l",
        "outputId": "1d42206d-89d8-4b49-c8f3-bbdc119fafb1"
      },
      "execution_count": 33,
      "outputs": [
        {
          "output_type": "execute_result",
          "data": {
            "text/plain": [
              "torch.int64"
            ]
          },
          "metadata": {},
          "execution_count": 33
        }
      ]
    },
    {
      "cell_type": "markdown",
      "source": [
        "### Gatting information from tensors\n",
        "\n",
        "Tensors not right data type - to get datatype from a tensor, can use 'tensor.dtype'\n",
        "Tensors not right shape - to get shape from a tensor, can use tensor.shape\n",
        "Tensors not on the right device - to get device from a tensor can use 'tensor.device'"
      ],
      "metadata": {
        "id": "bVqP6OMsf-Fy"
      }
    },
    {
      "cell_type": "code",
      "source": [
        "#Create a tensor\n",
        "some_tensor = torch.rand(3, 4)\n",
        "some_tensor"
      ],
      "metadata": {
        "colab": {
          "base_uri": "https://localhost:8080/"
        },
        "id": "nkYuPNv_gTlu",
        "outputId": "bd2d2e92-59a7-480e-993e-06ffc388e322"
      },
      "execution_count": 34,
      "outputs": [
        {
          "output_type": "execute_result",
          "data": {
            "text/plain": [
              "tensor([[0.8211, 0.6807, 0.4093, 0.3619],\n",
              "        [0.3566, 0.1212, 0.4414, 0.9316],\n",
              "        [0.6139, 0.6854, 0.4154, 0.6496]])"
            ]
          },
          "metadata": {},
          "execution_count": 34
        }
      ]
    },
    {
      "cell_type": "code",
      "source": [
        "some_tensor.shape, some_tensor.size() #Same same"
      ],
      "metadata": {
        "colab": {
          "base_uri": "https://localhost:8080/"
        },
        "id": "yuZmaX7EgaT4",
        "outputId": "fa7b463d-91a1-4409-b723-37d349aba3bd"
      },
      "execution_count": 35,
      "outputs": [
        {
          "output_type": "execute_result",
          "data": {
            "text/plain": [
              "(torch.Size([3, 4]), torch.Size([3, 4]))"
            ]
          },
          "metadata": {},
          "execution_count": 35
        }
      ]
    },
    {
      "cell_type": "code",
      "source": [
        "print(some_tensor)\n",
        "print(f\"Data type of tensor: {some_tensor.dtype}\")\n",
        "print(f\"THe shape of the tensor: {some_tensor.shape}\")\n",
        "print(f\"Device Sensor is on: {some_tensor.device}\")"
      ],
      "metadata": {
        "colab": {
          "base_uri": "https://localhost:8080/"
        },
        "id": "24Mf_9bxgdt9",
        "outputId": "689197d5-b685-4597-c18d-af55265aa0b1"
      },
      "execution_count": 36,
      "outputs": [
        {
          "output_type": "stream",
          "name": "stdout",
          "text": [
            "tensor([[0.8211, 0.6807, 0.4093, 0.3619],\n",
            "        [0.3566, 0.1212, 0.4414, 0.9316],\n",
            "        [0.6139, 0.6854, 0.4154, 0.6496]])\n",
            "Data type of tensor: torch.float32\n",
            "THe shape of the tensor: torch.Size([3, 4])\n",
            "Device Sensor is on: cpu\n"
          ]
        }
      ]
    },
    {
      "cell_type": "code",
      "source": [
        "random_int_tensor = torch.randint(low = 0, high = 10, size = (3, 3), dtype = torch.int64)\n",
        "random_int_tensor"
      ],
      "metadata": {
        "colab": {
          "base_uri": "https://localhost:8080/"
        },
        "id": "F3EHGoYKg2CD",
        "outputId": "f2fe8492-1364-4992-fc5e-c68371acae73"
      },
      "execution_count": 37,
      "outputs": [
        {
          "output_type": "execute_result",
          "data": {
            "text/plain": [
              "tensor([[3, 9, 7],\n",
              "        [4, 5, 0],\n",
              "        [7, 1, 6]])"
            ]
          },
          "metadata": {},
          "execution_count": 37
        }
      ]
    },
    {
      "cell_type": "markdown",
      "source": [
        " ### Manipulating Tensors (tensor's operation)\n",
        "\n",
        " Tensor operation include:\n",
        " * Addition\n",
        " * Subtraction\n",
        " * Multiplicatioon (ELement wise)\n",
        " * Division\n",
        " * Matrix multiplication"
      ],
      "metadata": {
        "id": "QR4p0a50hWEZ"
      }
    },
    {
      "cell_type": "code",
      "source": [
        "#Create a tensor\n",
        "tensor = torch.tensor([1, 2, 3])\n",
        "tensor + 10"
      ],
      "metadata": {
        "colab": {
          "base_uri": "https://localhost:8080/"
        },
        "id": "GaqB_3x7yAoD",
        "outputId": "317a274f-4d67-44d2-ac1c-a56f047fee14"
      },
      "execution_count": 38,
      "outputs": [
        {
          "output_type": "execute_result",
          "data": {
            "text/plain": [
              "tensor([11, 12, 13])"
            ]
          },
          "metadata": {},
          "execution_count": 38
        }
      ]
    },
    {
      "cell_type": "code",
      "source": [
        "tensor * 10"
      ],
      "metadata": {
        "colab": {
          "base_uri": "https://localhost:8080/"
        },
        "id": "-eEbEi28yHzn",
        "outputId": "06e4ca9e-3b10-4f34-b2d2-472b704bc7aa"
      },
      "execution_count": 39,
      "outputs": [
        {
          "output_type": "execute_result",
          "data": {
            "text/plain": [
              "tensor([10, 20, 30])"
            ]
          },
          "metadata": {},
          "execution_count": 39
        }
      ]
    },
    {
      "cell_type": "code",
      "source": [
        "tensor - 10"
      ],
      "metadata": {
        "colab": {
          "base_uri": "https://localhost:8080/"
        },
        "id": "x5b1_PVmyJ2x",
        "outputId": "60c62e7a-c330-4775-e514-736de4827590"
      },
      "execution_count": 40,
      "outputs": [
        {
          "output_type": "execute_result",
          "data": {
            "text/plain": [
              "tensor([-9, -8, -7])"
            ]
          },
          "metadata": {},
          "execution_count": 40
        }
      ]
    },
    {
      "cell_type": "code",
      "source": [
        "# Try out pytorchc inbuild function\n",
        "torch.mul(tensor, 10)"
      ],
      "metadata": {
        "colab": {
          "base_uri": "https://localhost:8080/"
        },
        "id": "Cx21R8_eyPC-",
        "outputId": "7445a8f7-fdb3-444d-99a0-d57ef5125907"
      },
      "execution_count": 41,
      "outputs": [
        {
          "output_type": "execute_result",
          "data": {
            "text/plain": [
              "tensor([10, 20, 30])"
            ]
          },
          "metadata": {},
          "execution_count": 41
        }
      ]
    },
    {
      "cell_type": "code",
      "source": [
        "torch.add(tensor, 10)"
      ],
      "metadata": {
        "colab": {
          "base_uri": "https://localhost:8080/"
        },
        "id": "DZCumgjlyWX-",
        "outputId": "aaa79709-45db-4506-89be-68c055577319"
      },
      "execution_count": 42,
      "outputs": [
        {
          "output_type": "execute_result",
          "data": {
            "text/plain": [
              "tensor([11, 12, 13])"
            ]
          },
          "metadata": {},
          "execution_count": 42
        }
      ]
    },
    {
      "cell_type": "markdown",
      "source": [
        "### Matrix multiplication\n",
        "Two main ways of performing matrix multiplication in neural networks are:\n",
        "1. Element wise multiplication\n",
        "2.Matrix multiplication"
      ],
      "metadata": {
        "id": "woOkrqVPybWU"
      }
    },
    {
      "cell_type": "code",
      "source": [
        "tensor"
      ],
      "metadata": {
        "colab": {
          "base_uri": "https://localhost:8080/"
        },
        "id": "EmBA-oyuzKR7",
        "outputId": "c5a7beeb-ac45-40d7-b6a9-260cf0fd1e68"
      },
      "execution_count": 43,
      "outputs": [
        {
          "output_type": "execute_result",
          "data": {
            "text/plain": [
              "tensor([1, 2, 3])"
            ]
          },
          "metadata": {},
          "execution_count": 43
        }
      ]
    },
    {
      "cell_type": "code",
      "source": [
        "print(tensor , \"*\", tensor)\n",
        "print(tensor * tensor)"
      ],
      "metadata": {
        "colab": {
          "base_uri": "https://localhost:8080/"
        },
        "id": "rP6RgA9zzPj0",
        "outputId": "8545fe43-5604-4505-c352-4d70e5c93378"
      },
      "execution_count": 44,
      "outputs": [
        {
          "output_type": "stream",
          "name": "stdout",
          "text": [
            "tensor([1, 2, 3]) * tensor([1, 2, 3])\n",
            "tensor([1, 4, 9])\n"
          ]
        }
      ]
    },
    {
      "cell_type": "code",
      "source": [
        "## Matrix multiplication\n",
        "torch.matmul(tensor, tensor)"
      ],
      "metadata": {
        "colab": {
          "base_uri": "https://localhost:8080/"
        },
        "id": "QGfkDpf3zW8p",
        "outputId": "a22205a8-dbf0-4712-c6b7-7d4c81675509"
      },
      "execution_count": 45,
      "outputs": [
        {
          "output_type": "execute_result",
          "data": {
            "text/plain": [
              "tensor(14)"
            ]
          },
          "metadata": {},
          "execution_count": 45
        }
      ]
    },
    {
      "cell_type": "code",
      "source": [
        "%%time\n",
        "value = 0\n",
        "for i in range(len(tensor)):\n",
        "  value += tensor[i] * tensor[i]"
      ],
      "metadata": {
        "colab": {
          "base_uri": "https://localhost:8080/"
        },
        "id": "o0LCetGizclR",
        "outputId": "7ba9a82a-ff8e-4830-e3cc-4545d1999956"
      },
      "execution_count": 46,
      "outputs": [
        {
          "output_type": "stream",
          "name": "stdout",
          "text": [
            "CPU times: user 399 µs, sys: 815 µs, total: 1.21 ms\n",
            "Wall time: 984 µs\n"
          ]
        }
      ]
    },
    {
      "cell_type": "code",
      "source": [
        "%%time\n",
        "torch.matmul(tensor, tensor)"
      ],
      "metadata": {
        "colab": {
          "base_uri": "https://localhost:8080/"
        },
        "id": "QGbaDm6PzyrF",
        "outputId": "0eea10f1-8b40-47bf-be15-4249e0b26b46"
      },
      "execution_count": 47,
      "outputs": [
        {
          "output_type": "stream",
          "name": "stdout",
          "text": [
            "CPU times: user 152 µs, sys: 25 µs, total: 177 µs\n",
            "Wall time: 154 µs\n"
          ]
        },
        {
          "output_type": "execute_result",
          "data": {
            "text/plain": [
              "tensor(14)"
            ]
          },
          "metadata": {},
          "execution_count": 47
        }
      ]
    },
    {
      "cell_type": "markdown",
      "source": [
        "### One of the most common error in deep learning is Shape Error"
      ],
      "metadata": {
        "id": "46SHXCTgz5XM"
      }
    },
    {
      "cell_type": "markdown",
      "source": [
        "Shape error: torch.matmul(torch.rand(3,2), torch.rand(3,2))\n",
        "\n",
        "\n",
        "torch.matmul(torch.rand(3, 2), torch.rand(2, 3)) # no error\n",
        "# dimension should match\n",
        "# Shape of inner dimension should match\n",
        "# Resulting matrix has the shape of outer dimension"
      ],
      "metadata": {
        "id": "fyTGOpNp1Hfv"
      }
    },
    {
      "cell_type": "code",
      "source": [
        "# Shapes for matrix multiplication\n",
        "\n",
        "tensora = torch.tensor([[1,2],\n",
        "                        [3,4],\n",
        "                        [5, 6]])\n",
        "tensorb = torch.tensor([[2, 3],\n",
        "                        [3, 4],\n",
        "                        [5,6]])\n",
        "torch.matmul(tensora, tensorb)"
      ],
      "metadata": {
        "colab": {
          "base_uri": "https://localhost:8080/",
          "height": 176
        },
        "id": "OIyDCh7S1HPw",
        "outputId": "18d53f2b-6314-4874-9764-993cc44fbfff"
      },
      "execution_count": 48,
      "outputs": [
        {
          "output_type": "error",
          "ename": "RuntimeError",
          "evalue": "mat1 and mat2 shapes cannot be multiplied (3x2 and 3x2)",
          "traceback": [
            "\u001b[0;31m---------------------------------------------------------------------------\u001b[0m",
            "\u001b[0;31mRuntimeError\u001b[0m                              Traceback (most recent call last)",
            "\u001b[0;32m/tmp/ipython-input-48-4150841198.py\u001b[0m in \u001b[0;36m<cell line: 0>\u001b[0;34m()\u001b[0m\n\u001b[1;32m      7\u001b[0m                         \u001b[0;34m[\u001b[0m\u001b[0;36m3\u001b[0m\u001b[0;34m,\u001b[0m \u001b[0;36m4\u001b[0m\u001b[0;34m]\u001b[0m\u001b[0;34m,\u001b[0m\u001b[0;34m\u001b[0m\u001b[0;34m\u001b[0m\u001b[0m\n\u001b[1;32m      8\u001b[0m                         [5,6]])\n\u001b[0;32m----> 9\u001b[0;31m \u001b[0mtorch\u001b[0m\u001b[0;34m.\u001b[0m\u001b[0mmatmul\u001b[0m\u001b[0;34m(\u001b[0m\u001b[0mtensora\u001b[0m\u001b[0;34m,\u001b[0m \u001b[0mtensorb\u001b[0m\u001b[0;34m)\u001b[0m\u001b[0;34m\u001b[0m\u001b[0;34m\u001b[0m\u001b[0m\n\u001b[0m",
            "\u001b[0;31mRuntimeError\u001b[0m: mat1 and mat2 shapes cannot be multiplied (3x2 and 3x2)"
          ]
        }
      ]
    },
    {
      "cell_type": "code",
      "source": [
        "tensora.shape, tensorb.shape"
      ],
      "metadata": {
        "colab": {
          "base_uri": "https://localhost:8080/"
        },
        "id": "ewCBrPjD2Tpy",
        "outputId": "00cb62f3-1583-4d97-9b23-d4d91ec261be"
      },
      "execution_count": 49,
      "outputs": [
        {
          "output_type": "execute_result",
          "data": {
            "text/plain": [
              "(torch.Size([3, 2]), torch.Size([3, 2]))"
            ]
          },
          "metadata": {},
          "execution_count": 49
        }
      ]
    },
    {
      "cell_type": "markdown",
      "source": [
        "TO fix our tensor shape issues we can maipulate shape of one of our tensor using torch.transpose\n",
        "Transpose switches the axes or dimensiion of a given tensor"
      ],
      "metadata": {
        "id": "rIR-YB722bPf"
      }
    },
    {
      "cell_type": "code",
      "source": [
        "tensorb, tensorb.shape"
      ],
      "metadata": {
        "colab": {
          "base_uri": "https://localhost:8080/"
        },
        "id": "-E-3EGwO2nm_",
        "outputId": "b4f698d1-af50-4c69-db44-6fe979edeab0"
      },
      "execution_count": 50,
      "outputs": [
        {
          "output_type": "execute_result",
          "data": {
            "text/plain": [
              "(tensor([[2, 3],\n",
              "         [3, 4],\n",
              "         [5, 6]]),\n",
              " torch.Size([3, 2]))"
            ]
          },
          "metadata": {},
          "execution_count": 50
        }
      ]
    },
    {
      "cell_type": "code",
      "source": [
        "tensorb.T, tensorb.T.shape"
      ],
      "metadata": {
        "colab": {
          "base_uri": "https://localhost:8080/"
        },
        "id": "vVn6Z2bR2qgR",
        "outputId": "c467cb1f-92c1-48d1-eb4b-a9c59c18001d"
      },
      "execution_count": 51,
      "outputs": [
        {
          "output_type": "execute_result",
          "data": {
            "text/plain": [
              "(tensor([[2, 3, 5],\n",
              "         [3, 4, 6]]),\n",
              " torch.Size([2, 3]))"
            ]
          },
          "metadata": {},
          "execution_count": 51
        }
      ]
    },
    {
      "cell_type": "code",
      "source": [
        "torch.matmul(tensorb, tensorb.T)"
      ],
      "metadata": {
        "colab": {
          "base_uri": "https://localhost:8080/"
        },
        "id": "QRv3PJC62sAX",
        "outputId": "c0c8ae90-e407-4d61-b4ed-3f79568045e7"
      },
      "execution_count": 52,
      "outputs": [
        {
          "output_type": "execute_result",
          "data": {
            "text/plain": [
              "tensor([[13, 18, 28],\n",
              "        [18, 25, 39],\n",
              "        [28, 39, 61]])"
            ]
          },
          "metadata": {},
          "execution_count": 52
        }
      ]
    },
    {
      "cell_type": "markdown",
      "source": [
        "#Finding min, max, mean, sum, etc(tensor aggregation)"
      ],
      "metadata": {
        "id": "ADXMIjER2_r3"
      }
    },
    {
      "cell_type": "code",
      "source": [
        "x = torch.arange(0, 100, 10)\n",
        "x,  x.dtype"
      ],
      "metadata": {
        "colab": {
          "base_uri": "https://localhost:8080/"
        },
        "id": "utlPKBOn3WiW",
        "outputId": "7a7ec0d6-29c1-4dbe-ec85-b224fc7e911c"
      },
      "execution_count": 53,
      "outputs": [
        {
          "output_type": "execute_result",
          "data": {
            "text/plain": [
              "(tensor([ 0, 10, 20, 30, 40, 50, 60, 70, 80, 90]), torch.int64)"
            ]
          },
          "metadata": {},
          "execution_count": 53
        }
      ]
    },
    {
      "cell_type": "code",
      "source": [
        "torch.min(x), x.max()"
      ],
      "metadata": {
        "colab": {
          "base_uri": "https://localhost:8080/"
        },
        "id": "baDaz1XG3auD",
        "outputId": "6c4e0647-b691-4e6a-843a-107fd3ea60ae"
      },
      "execution_count": 54,
      "outputs": [
        {
          "output_type": "execute_result",
          "data": {
            "text/plain": [
              "(tensor(0), tensor(90))"
            ]
          },
          "metadata": {},
          "execution_count": 54
        }
      ]
    },
    {
      "cell_type": "code",
      "source": [
        "torch.mean(x.type(torch.float32)), x.type(torch.float32).mean()"
      ],
      "metadata": {
        "colab": {
          "base_uri": "https://localhost:8080/"
        },
        "id": "T4ZNvdCm3fNy",
        "outputId": "bff0c8c6-24a2-40d3-930f-c0f4b5c18d2b"
      },
      "execution_count": 55,
      "outputs": [
        {
          "output_type": "execute_result",
          "data": {
            "text/plain": [
              "(tensor(45.), tensor(45.))"
            ]
          },
          "metadata": {},
          "execution_count": 55
        }
      ]
    },
    {
      "cell_type": "code",
      "source": [
        "x.min()"
      ],
      "metadata": {
        "colab": {
          "base_uri": "https://localhost:8080/"
        },
        "id": "ZiozdCun3vvt",
        "outputId": "c6626cc3-ff22-495e-f07d-fdf31999dac7"
      },
      "execution_count": 56,
      "outputs": [
        {
          "output_type": "execute_result",
          "data": {
            "text/plain": [
              "tensor(0)"
            ]
          },
          "metadata": {},
          "execution_count": 56
        }
      ]
    },
    {
      "cell_type": "code",
      "source": [
        "# Find sum\n",
        "torch.sum(x), x.sum()"
      ],
      "metadata": {
        "colab": {
          "base_uri": "https://localhost:8080/"
        },
        "id": "chPa1ub538Pm",
        "outputId": "f725209c-4fee-4f38-cd55-f8a5870192ce"
      },
      "execution_count": 57,
      "outputs": [
        {
          "output_type": "execute_result",
          "data": {
            "text/plain": [
              "(tensor(450), tensor(450))"
            ]
          },
          "metadata": {},
          "execution_count": 57
        }
      ]
    },
    {
      "cell_type": "code",
      "source": [
        "#Find position of min and max on the tensor\n",
        "print(torch.argmax(x))\n",
        "print(torch.argmin(x))\n",
        "#Also\n",
        "print(x.argmin())\n",
        "print(x.argmax())"
      ],
      "metadata": {
        "id": "GwZC6aE34FJ-",
        "colab": {
          "base_uri": "https://localhost:8080/"
        },
        "outputId": "42f3bd2d-5985-48fa-f171-bc302e1b87bf"
      },
      "execution_count": 66,
      "outputs": [
        {
          "output_type": "stream",
          "name": "stdout",
          "text": [
            "tensor(9)\n",
            "tensor(0)\n",
            "tensor(0)\n",
            "tensor(9)\n"
          ]
        }
      ]
    },
    {
      "cell_type": "markdown",
      "source": [
        "#Reshaping, stacking, squeezing, and unsqueezing tensors\n",
        "\n",
        "*Reshaping - reshapes an input tensor to a defined shape\n",
        "\n",
        "*View - Return view of an input tensor of certain shape but keep the same memory as the original tensor\n",
        "\n",
        "*Stacking - combine multiple tensors on top of each other (vstack) or side by side (hstack)\n",
        "\n",
        "*Squeeze - removes all `1` dimensions from a tensor\n",
        "\n",
        "*Unsqueeze - adds a `1` dimension to a target tensor\n",
        "\n",
        "*Permute - Return a view of the input with dimensions permuted (swapped) in a certain way"
      ],
      "metadata": {
        "id": "lopj0ux-UQES"
      }
    },
    {
      "cell_type": "code",
      "source": [
        "#Creating a tensor\n",
        "import torch\n",
        "x = torch.arange(1., 10.)\n",
        "x, x.shape"
      ],
      "metadata": {
        "colab": {
          "base_uri": "https://localhost:8080/"
        },
        "id": "adPnNMYNVv9e",
        "outputId": "49906bc4-9474-4c43-977f-2c3be989f4ca"
      },
      "execution_count": 2,
      "outputs": [
        {
          "output_type": "execute_result",
          "data": {
            "text/plain": [
              "(tensor([1., 2., 3., 4., 5., 6., 7., 8., 9.]), torch.Size([9]))"
            ]
          },
          "metadata": {},
          "execution_count": 2
        }
      ]
    },
    {
      "cell_type": "code",
      "source": [
        "x_reshaped = x.reshape(1, 9)\n",
        "x_reshaped, x_reshaped.shape"
      ],
      "metadata": {
        "colab": {
          "base_uri": "https://localhost:8080/"
        },
        "id": "y9ummTiBWCCs",
        "outputId": "60799674-b04e-4150-bbb6-c82636725c25"
      },
      "execution_count": 3,
      "outputs": [
        {
          "output_type": "execute_result",
          "data": {
            "text/plain": [
              "(tensor([[1., 2., 3., 4., 5., 6., 7., 8., 9.]]), torch.Size([1, 9]))"
            ]
          },
          "metadata": {},
          "execution_count": 3
        }
      ]
    },
    {
      "cell_type": "code",
      "source": [
        "  #Change the view\n",
        "  z = x.view(1, 9)\n",
        "  z, z.shape"
      ],
      "metadata": {
        "colab": {
          "base_uri": "https://localhost:8080/"
        },
        "id": "9SwsUT4DWN6X",
        "outputId": "522478de-5502-49ed-95d0-46e87d780200"
      },
      "execution_count": 4,
      "outputs": [
        {
          "output_type": "execute_result",
          "data": {
            "text/plain": [
              "(tensor([[1., 2., 3., 4., 5., 6., 7., 8., 9.]]), torch.Size([1, 9]))"
            ]
          },
          "metadata": {},
          "execution_count": 4
        }
      ]
    },
    {
      "cell_type": "code",
      "source": [
        "#Changing z changes x bcz view of the tensor shares the same memory as the original tensor\n",
        "z[:,0] = 5\n",
        "z, x"
      ],
      "metadata": {
        "colab": {
          "base_uri": "https://localhost:8080/"
        },
        "id": "KiA3OjNtXQ8L",
        "outputId": "7234e808-9cdd-4ddf-f1fc-962fa9aa021c"
      },
      "execution_count": 5,
      "outputs": [
        {
          "output_type": "execute_result",
          "data": {
            "text/plain": [
              "(tensor([[5., 2., 3., 4., 5., 6., 7., 8., 9.]]),\n",
              " tensor([5., 2., 3., 4., 5., 6., 7., 8., 9.]))"
            ]
          },
          "metadata": {},
          "execution_count": 5
        }
      ]
    },
    {
      "cell_type": "code",
      "source": [
        "# Stack tensor on top of each other\n",
        "x_stacked = torch.stack([x, x, x ,x], dim = -2)\n",
        "x_stacked"
      ],
      "metadata": {
        "colab": {
          "base_uri": "https://localhost:8080/"
        },
        "id": "IVSesGMRXcAu",
        "outputId": "2dbe1051-c259-4058-b6c8-77dfced157b7"
      },
      "execution_count": 6,
      "outputs": [
        {
          "output_type": "execute_result",
          "data": {
            "text/plain": [
              "tensor([[5., 2., 3., 4., 5., 6., 7., 8., 9.],\n",
              "        [5., 2., 3., 4., 5., 6., 7., 8., 9.],\n",
              "        [5., 2., 3., 4., 5., 6., 7., 8., 9.],\n",
              "        [5., 2., 3., 4., 5., 6., 7., 8., 9.]])"
            ]
          },
          "metadata": {},
          "execution_count": 6
        }
      ]
    },
    {
      "cell_type": "code",
      "source": [
        "#Torch Unsqueeze - Adding a dimension to the tensor\n",
        "x1 = torch.rand(3, 4)\n",
        "x1, x1.shape"
      ],
      "metadata": {
        "colab": {
          "base_uri": "https://localhost:8080/"
        },
        "id": "R6x9BKZgXrFn",
        "outputId": "705b0146-bca0-4b1b-cfef-6c11883f4738"
      },
      "execution_count": 7,
      "outputs": [
        {
          "output_type": "execute_result",
          "data": {
            "text/plain": [
              "(tensor([[0.7628, 0.8924, 0.3048, 0.0590],\n",
              "         [0.4181, 0.5737, 0.3480, 0.8723],\n",
              "         [0.7192, 0.5020, 0.5384, 0.8018]]),\n",
              " torch.Size([3, 4]))"
            ]
          },
          "metadata": {},
          "execution_count": 7
        }
      ]
    },
    {
      "cell_type": "code",
      "source": [
        "x2 = x1.unsqueeze(1)\n",
        "x2, x2.shape"
      ],
      "metadata": {
        "colab": {
          "base_uri": "https://localhost:8080/"
        },
        "id": "D9GyaS4rY3S9",
        "outputId": "0389becd-878b-45e5-a75e-e42b3bddfd0e"
      },
      "execution_count": 8,
      "outputs": [
        {
          "output_type": "execute_result",
          "data": {
            "text/plain": [
              "(tensor([[[0.7628, 0.8924, 0.3048, 0.0590]],\n",
              " \n",
              "         [[0.4181, 0.5737, 0.3480, 0.8723]],\n",
              " \n",
              "         [[0.7192, 0.5020, 0.5384, 0.8018]]]),\n",
              " torch.Size([3, 1, 4]))"
            ]
          },
          "metadata": {},
          "execution_count": 8
        }
      ]
    },
    {
      "cell_type": "code",
      "source": [
        "#Torch Squeeze - Removes all single dimension from a tensor\n",
        "x3 = x2.squeeze()\n",
        "x3, x3.shape"
      ],
      "metadata": {
        "colab": {
          "base_uri": "https://localhost:8080/"
        },
        "id": "l_B1SbcGY-BS",
        "outputId": "674d839b-6c97-40fa-8e27-37a8c5b99bf3"
      },
      "execution_count": 9,
      "outputs": [
        {
          "output_type": "execute_result",
          "data": {
            "text/plain": [
              "(tensor([[0.7628, 0.8924, 0.3048, 0.0590],\n",
              "         [0.4181, 0.5737, 0.3480, 0.8723],\n",
              "         [0.7192, 0.5020, 0.5384, 0.8018]]),\n",
              " torch.Size([3, 4]))"
            ]
          },
          "metadata": {},
          "execution_count": 9
        }
      ]
    },
    {
      "cell_type": "code",
      "source": [
        "y_original = torch.rand(size = (224, 224, 3))\n",
        "\n",
        "#Permute the original tensor to rearrange the axis (or dim) order\n",
        "\n",
        "y_permutted = y_original.permute(2, 0, 1)\n",
        "\n",
        "y_original.shape, y_permutted.shape"
      ],
      "metadata": {
        "colab": {
          "base_uri": "https://localhost:8080/"
        },
        "id": "NntQVA8RZvQ9",
        "outputId": "12dc6a28-27b3-48ad-bcc2-479860ef18e3"
      },
      "execution_count": 12,
      "outputs": [
        {
          "output_type": "execute_result",
          "data": {
            "text/plain": [
              "(torch.Size([224, 224, 3]), torch.Size([3, 224, 224]))"
            ]
          },
          "metadata": {},
          "execution_count": 12
        }
      ]
    },
    {
      "cell_type": "code",
      "source": [
        "x_original = torch.rand(size = (3, 2, 4))\n",
        "\n",
        "x_original[0, 0, 0] = 7\n",
        "\n",
        "print(f\"Original: {x_original}\")\n",
        "\n",
        "x_permutted = x_original.permute(2, 0, 1)\n",
        "\n",
        "print(f\"Permutted: {x_permutted}\")\n",
        "\n",
        "x_original.shape, x_permutted.shape"
      ],
      "metadata": {
        "colab": {
          "base_uri": "https://localhost:8080/"
        },
        "id": "FuEgOHzohlwe",
        "outputId": "bea70096-3e85-4e0f-a172-b7aadda07333"
      },
      "execution_count": 15,
      "outputs": [
        {
          "output_type": "stream",
          "name": "stdout",
          "text": [
            "Original: tensor([[[7.0000, 0.2906, 0.7088, 0.2056],\n",
            "         [0.4952, 0.2018, 0.1448, 0.2825]],\n",
            "\n",
            "        [[0.0276, 0.1149, 0.0839, 0.3663],\n",
            "         [0.4959, 0.3559, 0.7288, 0.9066]],\n",
            "\n",
            "        [[0.1374, 0.9018, 0.4175, 0.0311],\n",
            "         [0.0453, 0.9024, 0.8961, 0.8975]]])\n",
            "Permutted: tensor([[[7.0000, 0.4952],\n",
            "         [0.0276, 0.4959],\n",
            "         [0.1374, 0.0453]],\n",
            "\n",
            "        [[0.2906, 0.2018],\n",
            "         [0.1149, 0.3559],\n",
            "         [0.9018, 0.9024]],\n",
            "\n",
            "        [[0.7088, 0.1448],\n",
            "         [0.0839, 0.7288],\n",
            "         [0.4175, 0.8961]],\n",
            "\n",
            "        [[0.2056, 0.2825],\n",
            "         [0.3663, 0.9066],\n",
            "         [0.0311, 0.8975]]])\n"
          ]
        },
        {
          "output_type": "execute_result",
          "data": {
            "text/plain": [
              "(torch.Size([3, 2, 4]), torch.Size([4, 3, 2]))"
            ]
          },
          "metadata": {},
          "execution_count": 15
        }
      ]
    },
    {
      "cell_type": "markdown",
      "source": [
        "### Indexing (Selecting data from tensors)\n",
        "indexing with PyTorch is similar to indexing with NumPy"
      ],
      "metadata": {
        "id": "LE_Mrc2Xikge"
      }
    },
    {
      "cell_type": "code",
      "source": [
        "#Create a tensor's\n",
        "import torch\n",
        "x = torch.arange(1, 10).reshape(1, 3, 3)\n",
        "x, x.shape"
      ],
      "metadata": {
        "colab": {
          "base_uri": "https://localhost:8080/"
        },
        "id": "YEiZslSFjZ8Z",
        "outputId": "b9f67d56-037d-4f4f-e60a-9b3736d9a59b"
      },
      "execution_count": 16,
      "outputs": [
        {
          "output_type": "execute_result",
          "data": {
            "text/plain": [
              "(tensor([[[1, 2, 3],\n",
              "          [4, 5, 6],\n",
              "          [7, 8, 9]]]),\n",
              " torch.Size([1, 3, 3]))"
            ]
          },
          "metadata": {},
          "execution_count": 16
        }
      ]
    },
    {
      "cell_type": "code",
      "source": [
        "#Let's index on our new tensor\n",
        "x[0]"
      ],
      "metadata": {
        "colab": {
          "base_uri": "https://localhost:8080/"
        },
        "id": "4I0kYyQCjkan",
        "outputId": "e2f94fb4-e044-4fa4-f02d-6ab4262d3bce"
      },
      "execution_count": 17,
      "outputs": [
        {
          "output_type": "execute_result",
          "data": {
            "text/plain": [
              "tensor([[1, 2, 3],\n",
              "        [4, 5, 6],\n",
              "        [7, 8, 9]])"
            ]
          },
          "metadata": {},
          "execution_count": 17
        }
      ]
    },
    {
      "cell_type": "code",
      "source": [
        "#Let's index on the middle bracket(dim=1)\n",
        "x[0][2]"
      ],
      "metadata": {
        "colab": {
          "base_uri": "https://localhost:8080/"
        },
        "id": "BjIsQgfojrLy",
        "outputId": "1a14c3a1-387d-44ae-a0ff-d9b9aacb9861"
      },
      "execution_count": 21,
      "outputs": [
        {
          "output_type": "execute_result",
          "data": {
            "text/plain": [
              "tensor([7, 8, 9])"
            ]
          },
          "metadata": {},
          "execution_count": 21
        }
      ]
    },
    {
      "cell_type": "code",
      "source": [
        "#Let's index on the most inner bracker(inner dimension)\n",
        "x[0][0][0]"
      ],
      "metadata": {
        "colab": {
          "base_uri": "https://localhost:8080/"
        },
        "id": "V6BzaZGajxti",
        "outputId": "56bbdb35-0413-4e2d-cb9d-4a722022e766"
      },
      "execution_count": 19,
      "outputs": [
        {
          "output_type": "execute_result",
          "data": {
            "text/plain": [
              "tensor(1)"
            ]
          },
          "metadata": {},
          "execution_count": 19
        }
      ]
    },
    {
      "cell_type": "code",
      "source": [
        "# You can also use : to select all of target dimension\n",
        "x[:, 0]"
      ],
      "metadata": {
        "colab": {
          "base_uri": "https://localhost:8080/"
        },
        "id": "FZ1B04hskBHX",
        "outputId": "1466f69d-9a31-4274-8236-e31d5dc01b15"
      },
      "execution_count": 22,
      "outputs": [
        {
          "output_type": "execute_result",
          "data": {
            "text/plain": [
              "tensor([[1, 2, 3]])"
            ]
          },
          "metadata": {},
          "execution_count": 22
        }
      ]
    },
    {
      "cell_type": "code",
      "source": [
        "x[:, :, 1]"
      ],
      "metadata": {
        "colab": {
          "base_uri": "https://localhost:8080/"
        },
        "id": "grIZGyIQkcGg",
        "outputId": "753bc796-1182-4bcb-c5f8-de7f55b2481b"
      },
      "execution_count": 23,
      "outputs": [
        {
          "output_type": "execute_result",
          "data": {
            "text/plain": [
              "tensor([[2, 5, 8]])"
            ]
          },
          "metadata": {},
          "execution_count": 23
        }
      ]
    },
    {
      "cell_type": "code",
      "source": [
        "#Get all value of 0 dimension but only 1 index value of 1st and second dimension\n",
        "x[:, 1, 1]"
      ],
      "metadata": {
        "colab": {
          "base_uri": "https://localhost:8080/"
        },
        "id": "6jKDGbqgklPk",
        "outputId": "97f9c38e-b124-4274-fe1d-bd940db1a73f"
      },
      "execution_count": 24,
      "outputs": [
        {
          "output_type": "execute_result",
          "data": {
            "text/plain": [
              "tensor([5])"
            ]
          },
          "metadata": {},
          "execution_count": 24
        }
      ]
    },
    {
      "cell_type": "code",
      "source": [
        "#Get the index of 0 of 0th and 1st dimension and all values of 2nd dimension\n",
        "x[0, 0, :]"
      ],
      "metadata": {
        "colab": {
          "base_uri": "https://localhost:8080/"
        },
        "id": "VH-e7skSkwcN",
        "outputId": "f01cc2f0-8899-4ae9-87d9-5fef96ced86d"
      },
      "execution_count": 25,
      "outputs": [
        {
          "output_type": "execute_result",
          "data": {
            "text/plain": [
              "tensor([1, 2, 3])"
            ]
          },
          "metadata": {},
          "execution_count": 25
        }
      ]
    },
    {
      "cell_type": "code",
      "source": [
        "#Index on x to return 9\n",
        "x[0, 2, 2]\n",
        "\n",
        "#Index on x to return 3, 6, 9\n",
        "x[0, :, 2]"
      ],
      "metadata": {
        "colab": {
          "base_uri": "https://localhost:8080/"
        },
        "id": "Q3zRK40AlOeK",
        "outputId": "5a652420-6e66-42a7-a811-07d31c9cdba9"
      },
      "execution_count": 29,
      "outputs": [
        {
          "output_type": "execute_result",
          "data": {
            "text/plain": [
              "tensor([3, 6, 9])"
            ]
          },
          "metadata": {},
          "execution_count": 29
        }
      ]
    },
    {
      "cell_type": "markdown",
      "source": [
        "## PyTorch tensors & Numpy\n",
        "NumPy is a popular scientific Python numerical computing library\n",
        "\n",
        "And beacause of this, PyTorch has functionality to interact with it\n",
        "\n",
        "*Data in NumPy, want in PyTorch tensor -> `torch.from_numpy(ndarray)`\n",
        "*PyTorch tensor -> NumPy -> `torch.Tensor.numpy()`"
      ],
      "metadata": {
        "id": "BUQL-Yb1l5ce"
      }
    },
    {
      "cell_type": "code",
      "source": [
        "# NumPy array to tensor\n",
        "\n",
        "import torch\n",
        "import numpy as np\n",
        "\n",
        "array = np.arange(1.0, 8.0)\n",
        "tensor = torch.from_numpy(array)\n",
        "tensor_float32 = tensor.type(torch.float32)\n",
        "print(tensor_float32.dtype)\n",
        "array, tensor"
      ],
      "metadata": {
        "colab": {
          "base_uri": "https://localhost:8080/"
        },
        "id": "QR4_qzwFm1m6",
        "outputId": "b95c66cd-5285-4b64-a6b8-9ddf0b34741a"
      },
      "execution_count": 38,
      "outputs": [
        {
          "output_type": "stream",
          "name": "stdout",
          "text": [
            "torch.float32\n"
          ]
        },
        {
          "output_type": "execute_result",
          "data": {
            "text/plain": [
              "(array([1., 2., 3., 4., 5., 6., 7.]),\n",
              " tensor([1., 2., 3., 4., 5., 6., 7.], dtype=torch.float64))"
            ]
          },
          "metadata": {},
          "execution_count": 38
        }
      ]
    },
    {
      "cell_type": "code",
      "source": [
        "array.dtype"
      ],
      "metadata": {
        "colab": {
          "base_uri": "https://localhost:8080/"
        },
        "id": "4XNrqT14nHhz",
        "outputId": "827af966-9b49-4526-b351-d26ac15fb8cf"
      },
      "execution_count": 39,
      "outputs": [
        {
          "output_type": "execute_result",
          "data": {
            "text/plain": [
              "dtype('float64')"
            ]
          },
          "metadata": {},
          "execution_count": 39
        }
      ]
    },
    {
      "cell_type": "code",
      "source": [
        "tensor.dtype\n",
        "torch.arange(1.0, 8.0).dtype"
      ],
      "metadata": {
        "colab": {
          "base_uri": "https://localhost:8080/"
        },
        "id": "m-98OVGcnMLO",
        "outputId": "e5a3afc9-1d13-48ae-f29f-6e28f4563918"
      },
      "execution_count": 40,
      "outputs": [
        {
          "output_type": "execute_result",
          "data": {
            "text/plain": [
              "torch.float32"
            ]
          },
          "metadata": {},
          "execution_count": 40
        }
      ]
    },
    {
      "cell_type": "code",
      "source": [
        "#Change the vvalue of array, what will happen to tensor\n",
        "array = array + 1\n",
        "array, tensor"
      ],
      "metadata": {
        "colab": {
          "base_uri": "https://localhost:8080/"
        },
        "id": "Lla1jS9unOMG",
        "outputId": "4f7c1fb4-95f0-46e4-8038-533bfce6dd8a"
      },
      "execution_count": 41,
      "outputs": [
        {
          "output_type": "execute_result",
          "data": {
            "text/plain": [
              "(array([2., 3., 4., 5., 6., 7., 8.]),\n",
              " tensor([1., 2., 3., 4., 5., 6., 7.], dtype=torch.float64))"
            ]
          },
          "metadata": {},
          "execution_count": 41
        }
      ]
    },
    {
      "cell_type": "code",
      "source": [
        "#Tensor to Numpy array\n",
        "\n",
        "tensor = torch.ones(7)\n",
        "numpy_tensor = tensor.numpy()\n",
        "tensor, numpy_tensor"
      ],
      "metadata": {
        "colab": {
          "base_uri": "https://localhost:8080/"
        },
        "id": "Rf0L9Resns4Z",
        "outputId": "7a7d08b2-9716-47d4-88ff-a1bbcff08dbe"
      },
      "execution_count": 42,
      "outputs": [
        {
          "output_type": "execute_result",
          "data": {
            "text/plain": [
              "(tensor([1., 1., 1., 1., 1., 1., 1.]),\n",
              " array([1., 1., 1., 1., 1., 1., 1.], dtype=float32))"
            ]
          },
          "metadata": {},
          "execution_count": 42
        }
      ]
    },
    {
      "cell_type": "code",
      "source": [
        "numpy_tensor.dtype"
      ],
      "metadata": {
        "colab": {
          "base_uri": "https://localhost:8080/"
        },
        "id": "X371u6ALn7sV",
        "outputId": "175861b6-446d-414f-8c7f-20de443dce55"
      },
      "execution_count": 43,
      "outputs": [
        {
          "output_type": "execute_result",
          "data": {
            "text/plain": [
              "dtype('float32')"
            ]
          },
          "metadata": {},
          "execution_count": 43
        }
      ]
    },
    {
      "cell_type": "code",
      "source": [
        "#Change the tensor, what will happen to numpy\n",
        "tensor = tensor+1\n",
        "numpy_tensor, tensor"
      ],
      "metadata": {
        "colab": {
          "base_uri": "https://localhost:8080/"
        },
        "id": "WwiPRqaYn-fh",
        "outputId": "f451cbfb-f3c1-42f8-a309-f4392f345239"
      },
      "execution_count": 44,
      "outputs": [
        {
          "output_type": "execute_result",
          "data": {
            "text/plain": [
              "(array([1., 1., 1., 1., 1., 1., 1.], dtype=float32),\n",
              " tensor([2., 2., 2., 2., 2., 2., 2.]))"
            ]
          },
          "metadata": {},
          "execution_count": 44
        }
      ]
    },
    {
      "cell_type": "markdown",
      "source": [
        "## Reproducbility (Trying to take random out of random)\n",
        "In short how a neural network learns\n",
        "\n",
        "`start with randomm numers -> tensor operation -> update random numbers of data -> again -> again -> again`\n",
        "\n",
        "To reduce the randomness in nn and Pytorch comes the concept of **random seed**"
      ],
      "metadata": {
        "id": "SxsxvObnoG1m"
      }
    },
    {
      "cell_type": "code",
      "source": [
        "import torch\n",
        "\n",
        "#create two random tensors\n",
        "\n",
        "random_tensor_a = torch.rand(3, 4)\n",
        "random_tensor_b = torch.rand(3, 4)\n",
        "print(random_tensor_a)\n",
        "print(random_tensor_b)\n",
        "print(random_tensor_b == random_tensor_a)"
      ],
      "metadata": {
        "colab": {
          "base_uri": "https://localhost:8080/"
        },
        "id": "IIE1sEUvofuj",
        "outputId": "45b34ccf-c1ed-4290-c03c-bbc82a212aa7"
      },
      "execution_count": 48,
      "outputs": [
        {
          "output_type": "stream",
          "name": "stdout",
          "text": [
            "tensor([[0.6152, 0.3500, 0.4092, 0.0081],\n",
            "        [0.7364, 0.8824, 0.0073, 0.6540],\n",
            "        [0.8367, 0.9677, 0.4015, 0.9884]])\n",
            "tensor([[0.7951, 0.0479, 0.4081, 0.8002],\n",
            "        [0.8195, 0.8284, 0.0119, 0.4399],\n",
            "        [0.9235, 0.9781, 0.2910, 0.0635]])\n",
            "tensor([[False, False, False, False],\n",
            "        [False, False, False, False],\n",
            "        [False, False, False, False]])\n"
          ]
        }
      ]
    },
    {
      "cell_type": "code",
      "source": [
        "# Let's make some random but reproducible randoms's\n",
        "\n",
        "import torch\n",
        "RANDOM_SEED = 42\n",
        "\n",
        "torch.manual_seed(RANDOM_SEED)\n",
        "random_tensor_c = torch.rand(3, 4)\n",
        "\n",
        "torch.manual_seed(RANDOM_SEED)\n",
        "random_tensor_d = torch.rand(3, 4)\n",
        "\n",
        "print(random_tensor_c)\n",
        "print(random_tensor_d)\n",
        "print(random_tensor_d == random_tensor_c)"
      ],
      "metadata": {
        "colab": {
          "base_uri": "https://localhost:8080/"
        },
        "id": "F1Nl64D0ouCD",
        "outputId": "3a52decb-7a90-45e8-b331-ca062eaaeb54"
      },
      "execution_count": 51,
      "outputs": [
        {
          "output_type": "stream",
          "name": "stdout",
          "text": [
            "tensor([[0.8823, 0.9150, 0.3829, 0.9593],\n",
            "        [0.3904, 0.6009, 0.2566, 0.7936],\n",
            "        [0.9408, 0.1332, 0.9346, 0.5936]])\n",
            "tensor([[0.8823, 0.9150, 0.3829, 0.9593],\n",
            "        [0.3904, 0.6009, 0.2566, 0.7936],\n",
            "        [0.9408, 0.1332, 0.9346, 0.5936]])\n",
            "tensor([[True, True, True, True],\n",
            "        [True, True, True, True],\n",
            "        [True, True, True, True]])\n"
          ]
        }
      ]
    },
    {
      "cell_type": "markdown",
      "source": [
        "## Running tensors and PyTorch objects on the GPUs and making faster computation\n",
        "\n",
        "Gpu = faster computation on numbers thanks to cuda, nvidiahardware + pytorch"
      ],
      "metadata": {
        "id": "GLoy9vUApQmw"
      }
    },
    {
      "cell_type": "markdown",
      "source": [
        "### 1. Getting GPUs\n",
        "\n",
        "Google colab\n",
        "Use you own GPU - takes a little bit of setup\n",
        "using cloud computing"
      ],
      "metadata": {
        "id": "-bGZtIoNqNeb"
      }
    },
    {
      "cell_type": "code",
      "source": [],
      "metadata": {
        "id": "HZu-o-xnq4iW"
      },
      "execution_count": null,
      "outputs": []
    }
  ]
}